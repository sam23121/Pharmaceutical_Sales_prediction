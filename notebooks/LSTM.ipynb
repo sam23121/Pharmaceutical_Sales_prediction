{
  "nbformat": 4,
  "nbformat_minor": 0,
  "metadata": {
    "colab": {
      "name": "LSTM.ipynb",
      "provenance": []
    },
    "kernelspec": {
      "name": "python3",
      "display_name": "Python 3"
    },
    "language_info": {
      "name": "python"
    }
  },
  "cells": [
    {
      "cell_type": "code",
      "execution_count": 1,
      "metadata": {
        "colab": {
          "base_uri": "https://localhost:8080/"
        },
        "id": "9kjPIfG23hwZ",
        "outputId": "b88c7938-fa8a-4d82-af63-852e05968364"
      },
      "outputs": [
        {
          "output_type": "stream",
          "name": "stdout",
          "text": [
            "Drive already mounted at /content/drive; to attempt to forcibly remount, call drive.mount(\"/content/drive\", force_remount=True).\n"
          ]
        }
      ],
      "source": [
        "from google.colab import drive\n",
        "drive.mount(\"/content/drive\")"
      ]
    },
    {
      "cell_type": "code",
      "source": [
        "cd drive/MyDrive/git_data"
      ],
      "metadata": {
        "colab": {
          "base_uri": "https://localhost:8080/"
        },
        "id": "GWVLWwrU_wQg",
        "outputId": "79ed7bc9-9caf-4673-d561-4c0198d6d194"
      },
      "execution_count": 2,
      "outputs": [
        {
          "output_type": "stream",
          "name": "stdout",
          "text": [
            "/content/drive/MyDrive/git_data\n"
          ]
        }
      ]
    },
    {
      "cell_type": "code",
      "source": [
        "import numpy as np\n",
        "from numpy import concatenate\n",
        "import pandas as pd\n",
        "import matplotlib.pyplot as plt\n",
        "from matplotlib.gridspec import GridSpec\n",
        "from matplotlib import ticker\n",
        "from statsmodels.tsa.stattools import adfuller, acf, pacf\n",
        "from sklearn.preprocessing import MinMaxScaler,StandardScaler\n",
        "import tensorflow as tf\n",
        "from tensorflow.keras.models import Sequential\n",
        "from tensorflow.keras.layers import Dense, Dropout\n",
        "from tensorflow.keras.layers import LSTM\n",
        "from sklearn.metrics import mean_squared_error "
      ],
      "metadata": {
        "id": "C-WYpq_H_wWx"
      },
      "execution_count": 65,
      "outputs": []
    },
    {
      "cell_type": "code",
      "source": [
        "train_store = pd.read_csv(\"train_store.csv\")\n",
        "test_store = pd.read_csv(\"test_store.csv\")"
      ],
      "metadata": {
        "colab": {
          "base_uri": "https://localhost:8080/"
        },
        "id": "6zE2GSF7_wbn",
        "outputId": "14077897-5803-4fae-a14a-c698f4a5b90b"
      },
      "execution_count": 4,
      "outputs": [
        {
          "output_type": "stream",
          "name": "stderr",
          "text": [
            "/usr/local/lib/python3.7/dist-packages/IPython/core/interactiveshell.py:2882: DtypeWarning: Columns (6) have mixed types.Specify dtype option on import or set low_memory=False.\n",
            "  exec(code_obj, self.user_global_ns, self.user_ns)\n"
          ]
        }
      ]
    },
    {
      "cell_type": "code",
      "source": [
        "# train_store2 = pd.DataFrame(train_store, index=(str(pd.to_datetime(train_store[['Day', 'Month', 'Year']]))))\n",
        "train_store['date'] = pd.to_datetime(train_store[['Day', 'Month', 'Year']], format='%Y%m%d')\n",
        "train_store['date'] = train_store.date.dt.strftime('%Y-%m-%d')\n",
        "train_store2 = train_store.set_index(['date'])\n",
        "train_store2.head()"
      ],
      "metadata": {
        "colab": {
          "base_uri": "https://localhost:8080/",
          "height": 435
        },
        "id": "DTXssh8jKFa2",
        "outputId": "193645c5-c68d-42a9-b7bf-4dfdf4295f2f"
      },
      "execution_count": 61,
      "outputs": [
        {
          "output_type": "execute_result",
          "data": {
            "text/plain": [
              "            Unnamed: 0  Store  DayOfWeek  Sales  Customers  Open  Promo  \\\n",
              "date                                                                      \n",
              "2015-07-31           0      1          5   5263        555     1      1   \n",
              "2015-07-31           1      2          5   6064        625     1      1   \n",
              "2015-07-31           2      3          5   8314        821     1      1   \n",
              "2015-07-31           3      4          5  13995       1498     1      1   \n",
              "2015-07-31           4      5          5   4822        559     1      1   \n",
              "\n",
              "            StateHoliday  SchoolHoliday  Year  ...  SalePerCustomer  \\\n",
              "date                                           ...                    \n",
              "2015-07-31             0              1  2015  ...         9.482883   \n",
              "2015-07-31             0              1  2015  ...         9.702400   \n",
              "2015-07-31             0              1  2015  ...        10.126675   \n",
              "2015-07-31             0              1  2015  ...         9.342457   \n",
              "2015-07-31             0              1  2015  ...         8.626118   \n",
              "\n",
              "            StoreType  Assortment  CompetitionDistance  \\\n",
              "date                                                     \n",
              "2015-07-31          c           a               1270.0   \n",
              "2015-07-31          a           a                570.0   \n",
              "2015-07-31          a           a              14130.0   \n",
              "2015-07-31          c           c                620.0   \n",
              "2015-07-31          a           a              29910.0   \n",
              "\n",
              "           CompetitionOpenSinceMonth CompetitionOpenSinceYear  Promo2  \\\n",
              "date                                                                    \n",
              "2015-07-31                       9.0                   2008.0       0   \n",
              "2015-07-31                      11.0                   2007.0       1   \n",
              "2015-07-31                      12.0                   2006.0       1   \n",
              "2015-07-31                       9.0                   2009.0       0   \n",
              "2015-07-31                       4.0                   2015.0       0   \n",
              "\n",
              "            Promo2SinceWeek  Promo2SinceYear    PromoInterval  \n",
              "date                                                           \n",
              "2015-07-31              0.0              0.0                0  \n",
              "2015-07-31             13.0           2010.0  Jan,Apr,Jul,Oct  \n",
              "2015-07-31             14.0           2011.0  Jan,Apr,Jul,Oct  \n",
              "2015-07-31              0.0              0.0                0  \n",
              "2015-07-31              0.0              0.0                0  \n",
              "\n",
              "[5 rows x 23 columns]"
            ],
            "text/html": [
              "\n",
              "  <div id=\"df-e637a4a9-c234-4056-970c-cb00d70f6ee3\">\n",
              "    <div class=\"colab-df-container\">\n",
              "      <div>\n",
              "<style scoped>\n",
              "    .dataframe tbody tr th:only-of-type {\n",
              "        vertical-align: middle;\n",
              "    }\n",
              "\n",
              "    .dataframe tbody tr th {\n",
              "        vertical-align: top;\n",
              "    }\n",
              "\n",
              "    .dataframe thead th {\n",
              "        text-align: right;\n",
              "    }\n",
              "</style>\n",
              "<table border=\"1\" class=\"dataframe\">\n",
              "  <thead>\n",
              "    <tr style=\"text-align: right;\">\n",
              "      <th></th>\n",
              "      <th>Unnamed: 0</th>\n",
              "      <th>Store</th>\n",
              "      <th>DayOfWeek</th>\n",
              "      <th>Sales</th>\n",
              "      <th>Customers</th>\n",
              "      <th>Open</th>\n",
              "      <th>Promo</th>\n",
              "      <th>StateHoliday</th>\n",
              "      <th>SchoolHoliday</th>\n",
              "      <th>Year</th>\n",
              "      <th>...</th>\n",
              "      <th>SalePerCustomer</th>\n",
              "      <th>StoreType</th>\n",
              "      <th>Assortment</th>\n",
              "      <th>CompetitionDistance</th>\n",
              "      <th>CompetitionOpenSinceMonth</th>\n",
              "      <th>CompetitionOpenSinceYear</th>\n",
              "      <th>Promo2</th>\n",
              "      <th>Promo2SinceWeek</th>\n",
              "      <th>Promo2SinceYear</th>\n",
              "      <th>PromoInterval</th>\n",
              "    </tr>\n",
              "    <tr>\n",
              "      <th>date</th>\n",
              "      <th></th>\n",
              "      <th></th>\n",
              "      <th></th>\n",
              "      <th></th>\n",
              "      <th></th>\n",
              "      <th></th>\n",
              "      <th></th>\n",
              "      <th></th>\n",
              "      <th></th>\n",
              "      <th></th>\n",
              "      <th></th>\n",
              "      <th></th>\n",
              "      <th></th>\n",
              "      <th></th>\n",
              "      <th></th>\n",
              "      <th></th>\n",
              "      <th></th>\n",
              "      <th></th>\n",
              "      <th></th>\n",
              "      <th></th>\n",
              "      <th></th>\n",
              "    </tr>\n",
              "  </thead>\n",
              "  <tbody>\n",
              "    <tr>\n",
              "      <th>2015-07-31</th>\n",
              "      <td>0</td>\n",
              "      <td>1</td>\n",
              "      <td>5</td>\n",
              "      <td>5263</td>\n",
              "      <td>555</td>\n",
              "      <td>1</td>\n",
              "      <td>1</td>\n",
              "      <td>0</td>\n",
              "      <td>1</td>\n",
              "      <td>2015</td>\n",
              "      <td>...</td>\n",
              "      <td>9.482883</td>\n",
              "      <td>c</td>\n",
              "      <td>a</td>\n",
              "      <td>1270.0</td>\n",
              "      <td>9.0</td>\n",
              "      <td>2008.0</td>\n",
              "      <td>0</td>\n",
              "      <td>0.0</td>\n",
              "      <td>0.0</td>\n",
              "      <td>0</td>\n",
              "    </tr>\n",
              "    <tr>\n",
              "      <th>2015-07-31</th>\n",
              "      <td>1</td>\n",
              "      <td>2</td>\n",
              "      <td>5</td>\n",
              "      <td>6064</td>\n",
              "      <td>625</td>\n",
              "      <td>1</td>\n",
              "      <td>1</td>\n",
              "      <td>0</td>\n",
              "      <td>1</td>\n",
              "      <td>2015</td>\n",
              "      <td>...</td>\n",
              "      <td>9.702400</td>\n",
              "      <td>a</td>\n",
              "      <td>a</td>\n",
              "      <td>570.0</td>\n",
              "      <td>11.0</td>\n",
              "      <td>2007.0</td>\n",
              "      <td>1</td>\n",
              "      <td>13.0</td>\n",
              "      <td>2010.0</td>\n",
              "      <td>Jan,Apr,Jul,Oct</td>\n",
              "    </tr>\n",
              "    <tr>\n",
              "      <th>2015-07-31</th>\n",
              "      <td>2</td>\n",
              "      <td>3</td>\n",
              "      <td>5</td>\n",
              "      <td>8314</td>\n",
              "      <td>821</td>\n",
              "      <td>1</td>\n",
              "      <td>1</td>\n",
              "      <td>0</td>\n",
              "      <td>1</td>\n",
              "      <td>2015</td>\n",
              "      <td>...</td>\n",
              "      <td>10.126675</td>\n",
              "      <td>a</td>\n",
              "      <td>a</td>\n",
              "      <td>14130.0</td>\n",
              "      <td>12.0</td>\n",
              "      <td>2006.0</td>\n",
              "      <td>1</td>\n",
              "      <td>14.0</td>\n",
              "      <td>2011.0</td>\n",
              "      <td>Jan,Apr,Jul,Oct</td>\n",
              "    </tr>\n",
              "    <tr>\n",
              "      <th>2015-07-31</th>\n",
              "      <td>3</td>\n",
              "      <td>4</td>\n",
              "      <td>5</td>\n",
              "      <td>13995</td>\n",
              "      <td>1498</td>\n",
              "      <td>1</td>\n",
              "      <td>1</td>\n",
              "      <td>0</td>\n",
              "      <td>1</td>\n",
              "      <td>2015</td>\n",
              "      <td>...</td>\n",
              "      <td>9.342457</td>\n",
              "      <td>c</td>\n",
              "      <td>c</td>\n",
              "      <td>620.0</td>\n",
              "      <td>9.0</td>\n",
              "      <td>2009.0</td>\n",
              "      <td>0</td>\n",
              "      <td>0.0</td>\n",
              "      <td>0.0</td>\n",
              "      <td>0</td>\n",
              "    </tr>\n",
              "    <tr>\n",
              "      <th>2015-07-31</th>\n",
              "      <td>4</td>\n",
              "      <td>5</td>\n",
              "      <td>5</td>\n",
              "      <td>4822</td>\n",
              "      <td>559</td>\n",
              "      <td>1</td>\n",
              "      <td>1</td>\n",
              "      <td>0</td>\n",
              "      <td>1</td>\n",
              "      <td>2015</td>\n",
              "      <td>...</td>\n",
              "      <td>8.626118</td>\n",
              "      <td>a</td>\n",
              "      <td>a</td>\n",
              "      <td>29910.0</td>\n",
              "      <td>4.0</td>\n",
              "      <td>2015.0</td>\n",
              "      <td>0</td>\n",
              "      <td>0.0</td>\n",
              "      <td>0.0</td>\n",
              "      <td>0</td>\n",
              "    </tr>\n",
              "  </tbody>\n",
              "</table>\n",
              "<p>5 rows × 23 columns</p>\n",
              "</div>\n",
              "      <button class=\"colab-df-convert\" onclick=\"convertToInteractive('df-e637a4a9-c234-4056-970c-cb00d70f6ee3')\"\n",
              "              title=\"Convert this dataframe to an interactive table.\"\n",
              "              style=\"display:none;\">\n",
              "        \n",
              "  <svg xmlns=\"http://www.w3.org/2000/svg\" height=\"24px\"viewBox=\"0 0 24 24\"\n",
              "       width=\"24px\">\n",
              "    <path d=\"M0 0h24v24H0V0z\" fill=\"none\"/>\n",
              "    <path d=\"M18.56 5.44l.94 2.06.94-2.06 2.06-.94-2.06-.94-.94-2.06-.94 2.06-2.06.94zm-11 1L8.5 8.5l.94-2.06 2.06-.94-2.06-.94L8.5 2.5l-.94 2.06-2.06.94zm10 10l.94 2.06.94-2.06 2.06-.94-2.06-.94-.94-2.06-.94 2.06-2.06.94z\"/><path d=\"M17.41 7.96l-1.37-1.37c-.4-.4-.92-.59-1.43-.59-.52 0-1.04.2-1.43.59L10.3 9.45l-7.72 7.72c-.78.78-.78 2.05 0 2.83L4 21.41c.39.39.9.59 1.41.59.51 0 1.02-.2 1.41-.59l7.78-7.78 2.81-2.81c.8-.78.8-2.07 0-2.86zM5.41 20L4 18.59l7.72-7.72 1.47 1.35L5.41 20z\"/>\n",
              "  </svg>\n",
              "      </button>\n",
              "      \n",
              "  <style>\n",
              "    .colab-df-container {\n",
              "      display:flex;\n",
              "      flex-wrap:wrap;\n",
              "      gap: 12px;\n",
              "    }\n",
              "\n",
              "    .colab-df-convert {\n",
              "      background-color: #E8F0FE;\n",
              "      border: none;\n",
              "      border-radius: 50%;\n",
              "      cursor: pointer;\n",
              "      display: none;\n",
              "      fill: #1967D2;\n",
              "      height: 32px;\n",
              "      padding: 0 0 0 0;\n",
              "      width: 32px;\n",
              "    }\n",
              "\n",
              "    .colab-df-convert:hover {\n",
              "      background-color: #E2EBFA;\n",
              "      box-shadow: 0px 1px 2px rgba(60, 64, 67, 0.3), 0px 1px 3px 1px rgba(60, 64, 67, 0.15);\n",
              "      fill: #174EA6;\n",
              "    }\n",
              "\n",
              "    [theme=dark] .colab-df-convert {\n",
              "      background-color: #3B4455;\n",
              "      fill: #D2E3FC;\n",
              "    }\n",
              "\n",
              "    [theme=dark] .colab-df-convert:hover {\n",
              "      background-color: #434B5C;\n",
              "      box-shadow: 0px 1px 3px 1px rgba(0, 0, 0, 0.15);\n",
              "      filter: drop-shadow(0px 1px 2px rgba(0, 0, 0, 0.3));\n",
              "      fill: #FFFFFF;\n",
              "    }\n",
              "  </style>\n",
              "\n",
              "      <script>\n",
              "        const buttonEl =\n",
              "          document.querySelector('#df-e637a4a9-c234-4056-970c-cb00d70f6ee3 button.colab-df-convert');\n",
              "        buttonEl.style.display =\n",
              "          google.colab.kernel.accessAllowed ? 'block' : 'none';\n",
              "\n",
              "        async function convertToInteractive(key) {\n",
              "          const element = document.querySelector('#df-e637a4a9-c234-4056-970c-cb00d70f6ee3');\n",
              "          const dataTable =\n",
              "            await google.colab.kernel.invokeFunction('convertToInteractive',\n",
              "                                                     [key], {});\n",
              "          if (!dataTable) return;\n",
              "\n",
              "          const docLinkHtml = 'Like what you see? Visit the ' +\n",
              "            '<a target=\"_blank\" href=https://colab.research.google.com/notebooks/data_table.ipynb>data table notebook</a>'\n",
              "            + ' to learn more about interactive tables.';\n",
              "          element.innerHTML = '';\n",
              "          dataTable['output_type'] = 'display_data';\n",
              "          await google.colab.output.renderOutput(dataTable, element);\n",
              "          const docLink = document.createElement('div');\n",
              "          docLink.innerHTML = docLinkHtml;\n",
              "          element.appendChild(docLink);\n",
              "        }\n",
              "      </script>\n",
              "    </div>\n",
              "  </div>\n",
              "  "
            ]
          },
          "metadata": {},
          "execution_count": 61
        }
      ]
    },
    {
      "cell_type": "code",
      "source": [
        "train_store2.info()"
      ],
      "metadata": {
        "colab": {
          "base_uri": "https://localhost:8080/"
        },
        "id": "kaR-Yb2fYAXT",
        "outputId": "9b5d877b-b20d-4911-9507-c4f57cf6beb8"
      },
      "execution_count": null,
      "outputs": [
        {
          "output_type": "stream",
          "name": "stdout",
          "text": [
            "<class 'pandas.core.frame.DataFrame'>\n",
            "Index: 844338 entries, 2015-07-31 to 2013-01-01\n",
            "Data columns (total 23 columns):\n",
            " #   Column                     Non-Null Count   Dtype  \n",
            "---  ------                     --------------   -----  \n",
            " 0   Unnamed: 0                 844338 non-null  int64  \n",
            " 1   Store                      844338 non-null  int64  \n",
            " 2   DayOfWeek                  844338 non-null  int64  \n",
            " 3   Sales                      844338 non-null  int64  \n",
            " 4   Customers                  844338 non-null  int64  \n",
            " 5   Open                       844338 non-null  int64  \n",
            " 6   Promo                      844338 non-null  int64  \n",
            " 7   StateHoliday               844338 non-null  int64  \n",
            " 8   SchoolHoliday              844338 non-null  int64  \n",
            " 9   Year                       844338 non-null  int64  \n",
            " 10  Month                      844338 non-null  int64  \n",
            " 11  Day                        844338 non-null  int64  \n",
            " 12  WeekOfYear                 844338 non-null  int64  \n",
            " 13  SalePerCustomer            844338 non-null  float64\n",
            " 14  StoreType                  844338 non-null  object \n",
            " 15  Assortment                 844338 non-null  object \n",
            " 16  CompetitionDistance        844338 non-null  float64\n",
            " 17  CompetitionOpenSinceMonth  844338 non-null  float64\n",
            " 18  CompetitionOpenSinceYear   844338 non-null  float64\n",
            " 19  Promo2                     844338 non-null  int64  \n",
            " 20  Promo2SinceWeek            844338 non-null  float64\n",
            " 21  Promo2SinceYear            844338 non-null  float64\n",
            " 22  PromoInterval              844338 non-null  object \n",
            "dtypes: float64(6), int64(14), object(3)\n",
            "memory usage: 154.6+ MB\n"
          ]
        }
      ]
    },
    {
      "cell_type": "code",
      "source": [
        "train_store2.isna().sum()"
      ],
      "metadata": {
        "colab": {
          "base_uri": "https://localhost:8080/"
        },
        "id": "IFwG8mNOXhuH",
        "outputId": "695b14d7-0568-4bc9-e0c5-a37a4c0faf0b"
      },
      "execution_count": null,
      "outputs": [
        {
          "output_type": "execute_result",
          "data": {
            "text/plain": [
              "Unnamed: 0                   0\n",
              "Store                        0\n",
              "DayOfWeek                    0\n",
              "Sales                        0\n",
              "Customers                    0\n",
              "Open                         0\n",
              "Promo                        0\n",
              "StateHoliday                 0\n",
              "SchoolHoliday                0\n",
              "Year                         0\n",
              "Month                        0\n",
              "Day                          0\n",
              "WeekOfYear                   0\n",
              "SalePerCustomer              0\n",
              "StoreType                    0\n",
              "Assortment                   0\n",
              "CompetitionDistance          0\n",
              "CompetitionOpenSinceMonth    0\n",
              "CompetitionOpenSinceYear     0\n",
              "Promo2                       0\n",
              "Promo2SinceWeek              0\n",
              "Promo2SinceYear              0\n",
              "PromoInterval                0\n",
              "dtype: int64"
            ]
          },
          "metadata": {},
          "execution_count": 34
        }
      ]
    },
    {
      "cell_type": "code",
      "source": [
        "test_store.head()"
      ],
      "metadata": {
        "colab": {
          "base_uri": "https://localhost:8080/",
          "height": 317
        },
        "id": "5xWflZ4qExQo",
        "outputId": "85d7940b-83ce-43b5-d2f4-a14032d0be0a"
      },
      "execution_count": null,
      "outputs": [
        {
          "output_type": "execute_result",
          "data": {
            "text/plain": [
              "   Unnamed: 0  Id  Store  DayOfWeek  Open  Promo StateHoliday  SchoolHoliday  \\\n",
              "0           0   1      1          4   1.0      1            0              0   \n",
              "1           1   2      3          4   1.0      1            0              0   \n",
              "2           2   3      7          4   1.0      1            0              0   \n",
              "3           3   4      8          4   1.0      1            0              0   \n",
              "4           4   5      9          4   1.0      1            0              0   \n",
              "\n",
              "   Year  Month  ...  WeekOfYear  StoreType Assortment CompetitionDistance  \\\n",
              "0  2015      9  ...          38          c          a              1270.0   \n",
              "1  2015      9  ...          38          a          a             14130.0   \n",
              "2  2015      9  ...          38          a          c             24000.0   \n",
              "3  2015      9  ...          38          a          a              7520.0   \n",
              "4  2015      9  ...          38          a          c              2030.0   \n",
              "\n",
              "   CompetitionOpenSinceMonth  CompetitionOpenSinceYear  Promo2  \\\n",
              "0                        9.0                    2008.0       0   \n",
              "1                       12.0                    2006.0       1   \n",
              "2                        4.0                    2013.0       0   \n",
              "3                       10.0                    2014.0       0   \n",
              "4                        8.0                    2000.0       0   \n",
              "\n",
              "   Promo2SinceWeek  Promo2SinceYear    PromoInterval  \n",
              "0              0.0              0.0                0  \n",
              "1             14.0           2011.0  Jan,Apr,Jul,Oct  \n",
              "2              0.0              0.0                0  \n",
              "3              0.0              0.0                0  \n",
              "4              0.0              0.0                0  \n",
              "\n",
              "[5 rows x 21 columns]"
            ],
            "text/html": [
              "\n",
              "  <div id=\"df-8dd1a4c9-1746-49d4-9ea2-3caae66df6da\">\n",
              "    <div class=\"colab-df-container\">\n",
              "      <div>\n",
              "<style scoped>\n",
              "    .dataframe tbody tr th:only-of-type {\n",
              "        vertical-align: middle;\n",
              "    }\n",
              "\n",
              "    .dataframe tbody tr th {\n",
              "        vertical-align: top;\n",
              "    }\n",
              "\n",
              "    .dataframe thead th {\n",
              "        text-align: right;\n",
              "    }\n",
              "</style>\n",
              "<table border=\"1\" class=\"dataframe\">\n",
              "  <thead>\n",
              "    <tr style=\"text-align: right;\">\n",
              "      <th></th>\n",
              "      <th>Unnamed: 0</th>\n",
              "      <th>Id</th>\n",
              "      <th>Store</th>\n",
              "      <th>DayOfWeek</th>\n",
              "      <th>Open</th>\n",
              "      <th>Promo</th>\n",
              "      <th>StateHoliday</th>\n",
              "      <th>SchoolHoliday</th>\n",
              "      <th>Year</th>\n",
              "      <th>Month</th>\n",
              "      <th>...</th>\n",
              "      <th>WeekOfYear</th>\n",
              "      <th>StoreType</th>\n",
              "      <th>Assortment</th>\n",
              "      <th>CompetitionDistance</th>\n",
              "      <th>CompetitionOpenSinceMonth</th>\n",
              "      <th>CompetitionOpenSinceYear</th>\n",
              "      <th>Promo2</th>\n",
              "      <th>Promo2SinceWeek</th>\n",
              "      <th>Promo2SinceYear</th>\n",
              "      <th>PromoInterval</th>\n",
              "    </tr>\n",
              "  </thead>\n",
              "  <tbody>\n",
              "    <tr>\n",
              "      <th>0</th>\n",
              "      <td>0</td>\n",
              "      <td>1</td>\n",
              "      <td>1</td>\n",
              "      <td>4</td>\n",
              "      <td>1.0</td>\n",
              "      <td>1</td>\n",
              "      <td>0</td>\n",
              "      <td>0</td>\n",
              "      <td>2015</td>\n",
              "      <td>9</td>\n",
              "      <td>...</td>\n",
              "      <td>38</td>\n",
              "      <td>c</td>\n",
              "      <td>a</td>\n",
              "      <td>1270.0</td>\n",
              "      <td>9.0</td>\n",
              "      <td>2008.0</td>\n",
              "      <td>0</td>\n",
              "      <td>0.0</td>\n",
              "      <td>0.0</td>\n",
              "      <td>0</td>\n",
              "    </tr>\n",
              "    <tr>\n",
              "      <th>1</th>\n",
              "      <td>1</td>\n",
              "      <td>2</td>\n",
              "      <td>3</td>\n",
              "      <td>4</td>\n",
              "      <td>1.0</td>\n",
              "      <td>1</td>\n",
              "      <td>0</td>\n",
              "      <td>0</td>\n",
              "      <td>2015</td>\n",
              "      <td>9</td>\n",
              "      <td>...</td>\n",
              "      <td>38</td>\n",
              "      <td>a</td>\n",
              "      <td>a</td>\n",
              "      <td>14130.0</td>\n",
              "      <td>12.0</td>\n",
              "      <td>2006.0</td>\n",
              "      <td>1</td>\n",
              "      <td>14.0</td>\n",
              "      <td>2011.0</td>\n",
              "      <td>Jan,Apr,Jul,Oct</td>\n",
              "    </tr>\n",
              "    <tr>\n",
              "      <th>2</th>\n",
              "      <td>2</td>\n",
              "      <td>3</td>\n",
              "      <td>7</td>\n",
              "      <td>4</td>\n",
              "      <td>1.0</td>\n",
              "      <td>1</td>\n",
              "      <td>0</td>\n",
              "      <td>0</td>\n",
              "      <td>2015</td>\n",
              "      <td>9</td>\n",
              "      <td>...</td>\n",
              "      <td>38</td>\n",
              "      <td>a</td>\n",
              "      <td>c</td>\n",
              "      <td>24000.0</td>\n",
              "      <td>4.0</td>\n",
              "      <td>2013.0</td>\n",
              "      <td>0</td>\n",
              "      <td>0.0</td>\n",
              "      <td>0.0</td>\n",
              "      <td>0</td>\n",
              "    </tr>\n",
              "    <tr>\n",
              "      <th>3</th>\n",
              "      <td>3</td>\n",
              "      <td>4</td>\n",
              "      <td>8</td>\n",
              "      <td>4</td>\n",
              "      <td>1.0</td>\n",
              "      <td>1</td>\n",
              "      <td>0</td>\n",
              "      <td>0</td>\n",
              "      <td>2015</td>\n",
              "      <td>9</td>\n",
              "      <td>...</td>\n",
              "      <td>38</td>\n",
              "      <td>a</td>\n",
              "      <td>a</td>\n",
              "      <td>7520.0</td>\n",
              "      <td>10.0</td>\n",
              "      <td>2014.0</td>\n",
              "      <td>0</td>\n",
              "      <td>0.0</td>\n",
              "      <td>0.0</td>\n",
              "      <td>0</td>\n",
              "    </tr>\n",
              "    <tr>\n",
              "      <th>4</th>\n",
              "      <td>4</td>\n",
              "      <td>5</td>\n",
              "      <td>9</td>\n",
              "      <td>4</td>\n",
              "      <td>1.0</td>\n",
              "      <td>1</td>\n",
              "      <td>0</td>\n",
              "      <td>0</td>\n",
              "      <td>2015</td>\n",
              "      <td>9</td>\n",
              "      <td>...</td>\n",
              "      <td>38</td>\n",
              "      <td>a</td>\n",
              "      <td>c</td>\n",
              "      <td>2030.0</td>\n",
              "      <td>8.0</td>\n",
              "      <td>2000.0</td>\n",
              "      <td>0</td>\n",
              "      <td>0.0</td>\n",
              "      <td>0.0</td>\n",
              "      <td>0</td>\n",
              "    </tr>\n",
              "  </tbody>\n",
              "</table>\n",
              "<p>5 rows × 21 columns</p>\n",
              "</div>\n",
              "      <button class=\"colab-df-convert\" onclick=\"convertToInteractive('df-8dd1a4c9-1746-49d4-9ea2-3caae66df6da')\"\n",
              "              title=\"Convert this dataframe to an interactive table.\"\n",
              "              style=\"display:none;\">\n",
              "        \n",
              "  <svg xmlns=\"http://www.w3.org/2000/svg\" height=\"24px\"viewBox=\"0 0 24 24\"\n",
              "       width=\"24px\">\n",
              "    <path d=\"M0 0h24v24H0V0z\" fill=\"none\"/>\n",
              "    <path d=\"M18.56 5.44l.94 2.06.94-2.06 2.06-.94-2.06-.94-.94-2.06-.94 2.06-2.06.94zm-11 1L8.5 8.5l.94-2.06 2.06-.94-2.06-.94L8.5 2.5l-.94 2.06-2.06.94zm10 10l.94 2.06.94-2.06 2.06-.94-2.06-.94-.94-2.06-.94 2.06-2.06.94z\"/><path d=\"M17.41 7.96l-1.37-1.37c-.4-.4-.92-.59-1.43-.59-.52 0-1.04.2-1.43.59L10.3 9.45l-7.72 7.72c-.78.78-.78 2.05 0 2.83L4 21.41c.39.39.9.59 1.41.59.51 0 1.02-.2 1.41-.59l7.78-7.78 2.81-2.81c.8-.78.8-2.07 0-2.86zM5.41 20L4 18.59l7.72-7.72 1.47 1.35L5.41 20z\"/>\n",
              "  </svg>\n",
              "      </button>\n",
              "      \n",
              "  <style>\n",
              "    .colab-df-container {\n",
              "      display:flex;\n",
              "      flex-wrap:wrap;\n",
              "      gap: 12px;\n",
              "    }\n",
              "\n",
              "    .colab-df-convert {\n",
              "      background-color: #E8F0FE;\n",
              "      border: none;\n",
              "      border-radius: 50%;\n",
              "      cursor: pointer;\n",
              "      display: none;\n",
              "      fill: #1967D2;\n",
              "      height: 32px;\n",
              "      padding: 0 0 0 0;\n",
              "      width: 32px;\n",
              "    }\n",
              "\n",
              "    .colab-df-convert:hover {\n",
              "      background-color: #E2EBFA;\n",
              "      box-shadow: 0px 1px 2px rgba(60, 64, 67, 0.3), 0px 1px 3px 1px rgba(60, 64, 67, 0.15);\n",
              "      fill: #174EA6;\n",
              "    }\n",
              "\n",
              "    [theme=dark] .colab-df-convert {\n",
              "      background-color: #3B4455;\n",
              "      fill: #D2E3FC;\n",
              "    }\n",
              "\n",
              "    [theme=dark] .colab-df-convert:hover {\n",
              "      background-color: #434B5C;\n",
              "      box-shadow: 0px 1px 3px 1px rgba(0, 0, 0, 0.15);\n",
              "      filter: drop-shadow(0px 1px 2px rgba(0, 0, 0, 0.3));\n",
              "      fill: #FFFFFF;\n",
              "    }\n",
              "  </style>\n",
              "\n",
              "      <script>\n",
              "        const buttonEl =\n",
              "          document.querySelector('#df-8dd1a4c9-1746-49d4-9ea2-3caae66df6da button.colab-df-convert');\n",
              "        buttonEl.style.display =\n",
              "          google.colab.kernel.accessAllowed ? 'block' : 'none';\n",
              "\n",
              "        async function convertToInteractive(key) {\n",
              "          const element = document.querySelector('#df-8dd1a4c9-1746-49d4-9ea2-3caae66df6da');\n",
              "          const dataTable =\n",
              "            await google.colab.kernel.invokeFunction('convertToInteractive',\n",
              "                                                     [key], {});\n",
              "          if (!dataTable) return;\n",
              "\n",
              "          const docLinkHtml = 'Like what you see? Visit the ' +\n",
              "            '<a target=\"_blank\" href=https://colab.research.google.com/notebooks/data_table.ipynb>data table notebook</a>'\n",
              "            + ' to learn more about interactive tables.';\n",
              "          element.innerHTML = '';\n",
              "          dataTable['output_type'] = 'display_data';\n",
              "          await google.colab.output.renderOutput(dataTable, element);\n",
              "          const docLink = document.createElement('div');\n",
              "          docLink.innerHTML = docLinkHtml;\n",
              "          element.appendChild(docLink);\n",
              "        }\n",
              "      </script>\n",
              "    </div>\n",
              "  </div>\n",
              "  "
            ]
          },
          "metadata": {},
          "execution_count": 6
        }
      ]
    },
    {
      "cell_type": "code",
      "source": [
        "def eval_metrics(actual, pred):\n",
        "    rmse = np.sqrt(mean_squared_error(actual, pred))\n",
        "    mae = mean_absolute_error(actual, pred)\n",
        "    mse = mean_squared_error(actual, pred)\n",
        "    return rmse, mae, mse\n",
        "\n",
        "def pre_processing(df):\n",
        "    #droping the auction id since it has no value for the train\n",
        "    try:\n",
        "      df.drop('Unnamed: 0', axis=1, inplace=True)\n",
        "    except:\n",
        "      pass \n",
        "\n",
        "    # numr_col = pre.get_numerical_columns(df) \n",
        "    # categorical_column = pre.get_categorical_columns(df)\n",
        "    numerical_column = df.select_dtypes(exclude=\"object\").columns.tolist()\n",
        "    categorical_column = df.select_dtypes(include=\"object\").columns.tolist()\n",
        "\n",
        "    # Get column names have less than 10 more than 2 unique values\n",
        "    to_one_hot_encoding = [col for col in categorical_column if df[col].nunique() <= 10 and df[col].nunique() > 2]\n",
        "    one_hot_encoded_columns = pd.get_dummies(df[to_one_hot_encoding])\n",
        "    df = pd.concat([df, one_hot_encoded_columns], axis=1)\n",
        "\n",
        "    \n",
        "    df.drop(categorical_column, axis=1, inplace=True)\n",
        "    X = df.drop(['Customers', 'Sales', 'SalePerCustomer'], axis = 1) \n",
        "    col_name = df.columns.tolist()\n",
        "    y=df.Sales\n",
        "    frames = [X, y]\n",
        "    result = pd.concat(frames, axis=1, join='inner')\n",
        "\n",
        "\n",
        "    return result, col_name"
      ],
      "metadata": {
        "id": "0OEkdSA7EH90"
      },
      "execution_count": 8,
      "outputs": []
    },
    {
      "cell_type": "code",
      "source": [
        "X, col_name = pre_processing(train_store2)"
      ],
      "metadata": {
        "id": "RbXLfM-7Enda"
      },
      "execution_count": 62,
      "outputs": []
    },
    {
      "cell_type": "code",
      "source": [
        "X"
      ],
      "metadata": {
        "colab": {
          "base_uri": "https://localhost:8080/",
          "height": 693
        },
        "id": "4CBEHT40fNai",
        "outputId": "eac5e74f-4892-4fc6-b8b9-44a763e28878"
      },
      "execution_count": null,
      "outputs": [
        {
          "output_type": "execute_result",
          "data": {
            "text/plain": [
              "            Store  DayOfWeek  Open  Promo  StateHoliday  SchoolHoliday  Year  \\\n",
              "date                                                                           \n",
              "2015-07-31      1          5     1      1             0              1  2015   \n",
              "2015-07-31      2          5     1      1             0              1  2015   \n",
              "2015-07-31      3          5     1      1             0              1  2015   \n",
              "2015-07-31      4          5     1      1             0              1  2015   \n",
              "2015-07-31      5          5     1      1             0              1  2015   \n",
              "...           ...        ...   ...    ...           ...            ...   ...   \n",
              "2013-01-01    682          2     1      0             1              1  2013   \n",
              "2013-01-01    733          2     1      0             1              1  2013   \n",
              "2013-01-01    769          2     1      0             1              1  2013   \n",
              "2013-01-01    948          2     1      0             1              1  2013   \n",
              "2013-01-01   1097          2     1      0             1              1  2013   \n",
              "\n",
              "            Month  Day  WeekOfYear  ...  StoreType_c  StoreType_d  \\\n",
              "date                                ...                             \n",
              "2015-07-31      7   31          31  ...            1            0   \n",
              "2015-07-31      7   31          31  ...            0            0   \n",
              "2015-07-31      7   31          31  ...            0            0   \n",
              "2015-07-31      7   31          31  ...            1            0   \n",
              "2015-07-31      7   31          31  ...            0            0   \n",
              "...           ...  ...         ...  ...          ...          ...   \n",
              "2013-01-01      1    1           1  ...            0            0   \n",
              "2013-01-01      1    1           1  ...            0            0   \n",
              "2013-01-01      1    1           1  ...            0            0   \n",
              "2013-01-01      1    1           1  ...            0            0   \n",
              "2013-01-01      1    1           1  ...            0            0   \n",
              "\n",
              "            Assortment_a  Assortment_b  Assortment_c  PromoInterval_0  \\\n",
              "date                                                                    \n",
              "2015-07-31             1             0             0                1   \n",
              "2015-07-31             1             0             0                0   \n",
              "2015-07-31             1             0             0                0   \n",
              "2015-07-31             0             0             1                1   \n",
              "2015-07-31             1             0             0                1   \n",
              "...                  ...           ...           ...              ...   \n",
              "2013-01-01             1             0             0                1   \n",
              "2013-01-01             0             1             0                1   \n",
              "2013-01-01             0             1             0                0   \n",
              "2013-01-01             0             1             0                1   \n",
              "2013-01-01             0             1             0                1   \n",
              "\n",
              "            PromoInterval_Feb,May,Aug,Nov  PromoInterval_Jan,Apr,Jul,Oct  \\\n",
              "date                                                                       \n",
              "2015-07-31                              0                              0   \n",
              "2015-07-31                              0                              1   \n",
              "2015-07-31                              0                              1   \n",
              "2015-07-31                              0                              0   \n",
              "2015-07-31                              0                              0   \n",
              "...                                   ...                            ...   \n",
              "2013-01-01                              0                              0   \n",
              "2013-01-01                              0                              0   \n",
              "2013-01-01                              0                              1   \n",
              "2013-01-01                              0                              0   \n",
              "2013-01-01                              0                              0   \n",
              "\n",
              "            PromoInterval_Mar,Jun,Sept,Dec  Sales  \n",
              "date                                               \n",
              "2015-07-31                               0   5263  \n",
              "2015-07-31                               0   6064  \n",
              "2015-07-31                               0   8314  \n",
              "2015-07-31                               0  13995  \n",
              "2015-07-31                               0   4822  \n",
              "...                                    ...    ...  \n",
              "2013-01-01                               0   3375  \n",
              "2013-01-01                               0  10765  \n",
              "2013-01-01                               0   5035  \n",
              "2013-01-01                               0   4491  \n",
              "2013-01-01                               0   5961  \n",
              "\n",
              "[844338 rows x 28 columns]"
            ],
            "text/html": [
              "\n",
              "  <div id=\"df-d5eabec1-6f8f-45e3-8077-c721ac9ce794\">\n",
              "    <div class=\"colab-df-container\">\n",
              "      <div>\n",
              "<style scoped>\n",
              "    .dataframe tbody tr th:only-of-type {\n",
              "        vertical-align: middle;\n",
              "    }\n",
              "\n",
              "    .dataframe tbody tr th {\n",
              "        vertical-align: top;\n",
              "    }\n",
              "\n",
              "    .dataframe thead th {\n",
              "        text-align: right;\n",
              "    }\n",
              "</style>\n",
              "<table border=\"1\" class=\"dataframe\">\n",
              "  <thead>\n",
              "    <tr style=\"text-align: right;\">\n",
              "      <th></th>\n",
              "      <th>Store</th>\n",
              "      <th>DayOfWeek</th>\n",
              "      <th>Open</th>\n",
              "      <th>Promo</th>\n",
              "      <th>StateHoliday</th>\n",
              "      <th>SchoolHoliday</th>\n",
              "      <th>Year</th>\n",
              "      <th>Month</th>\n",
              "      <th>Day</th>\n",
              "      <th>WeekOfYear</th>\n",
              "      <th>...</th>\n",
              "      <th>StoreType_c</th>\n",
              "      <th>StoreType_d</th>\n",
              "      <th>Assortment_a</th>\n",
              "      <th>Assortment_b</th>\n",
              "      <th>Assortment_c</th>\n",
              "      <th>PromoInterval_0</th>\n",
              "      <th>PromoInterval_Feb,May,Aug,Nov</th>\n",
              "      <th>PromoInterval_Jan,Apr,Jul,Oct</th>\n",
              "      <th>PromoInterval_Mar,Jun,Sept,Dec</th>\n",
              "      <th>Sales</th>\n",
              "    </tr>\n",
              "    <tr>\n",
              "      <th>date</th>\n",
              "      <th></th>\n",
              "      <th></th>\n",
              "      <th></th>\n",
              "      <th></th>\n",
              "      <th></th>\n",
              "      <th></th>\n",
              "      <th></th>\n",
              "      <th></th>\n",
              "      <th></th>\n",
              "      <th></th>\n",
              "      <th></th>\n",
              "      <th></th>\n",
              "      <th></th>\n",
              "      <th></th>\n",
              "      <th></th>\n",
              "      <th></th>\n",
              "      <th></th>\n",
              "      <th></th>\n",
              "      <th></th>\n",
              "      <th></th>\n",
              "      <th></th>\n",
              "    </tr>\n",
              "  </thead>\n",
              "  <tbody>\n",
              "    <tr>\n",
              "      <th>2015-07-31</th>\n",
              "      <td>1</td>\n",
              "      <td>5</td>\n",
              "      <td>1</td>\n",
              "      <td>1</td>\n",
              "      <td>0</td>\n",
              "      <td>1</td>\n",
              "      <td>2015</td>\n",
              "      <td>7</td>\n",
              "      <td>31</td>\n",
              "      <td>31</td>\n",
              "      <td>...</td>\n",
              "      <td>1</td>\n",
              "      <td>0</td>\n",
              "      <td>1</td>\n",
              "      <td>0</td>\n",
              "      <td>0</td>\n",
              "      <td>1</td>\n",
              "      <td>0</td>\n",
              "      <td>0</td>\n",
              "      <td>0</td>\n",
              "      <td>5263</td>\n",
              "    </tr>\n",
              "    <tr>\n",
              "      <th>2015-07-31</th>\n",
              "      <td>2</td>\n",
              "      <td>5</td>\n",
              "      <td>1</td>\n",
              "      <td>1</td>\n",
              "      <td>0</td>\n",
              "      <td>1</td>\n",
              "      <td>2015</td>\n",
              "      <td>7</td>\n",
              "      <td>31</td>\n",
              "      <td>31</td>\n",
              "      <td>...</td>\n",
              "      <td>0</td>\n",
              "      <td>0</td>\n",
              "      <td>1</td>\n",
              "      <td>0</td>\n",
              "      <td>0</td>\n",
              "      <td>0</td>\n",
              "      <td>0</td>\n",
              "      <td>1</td>\n",
              "      <td>0</td>\n",
              "      <td>6064</td>\n",
              "    </tr>\n",
              "    <tr>\n",
              "      <th>2015-07-31</th>\n",
              "      <td>3</td>\n",
              "      <td>5</td>\n",
              "      <td>1</td>\n",
              "      <td>1</td>\n",
              "      <td>0</td>\n",
              "      <td>1</td>\n",
              "      <td>2015</td>\n",
              "      <td>7</td>\n",
              "      <td>31</td>\n",
              "      <td>31</td>\n",
              "      <td>...</td>\n",
              "      <td>0</td>\n",
              "      <td>0</td>\n",
              "      <td>1</td>\n",
              "      <td>0</td>\n",
              "      <td>0</td>\n",
              "      <td>0</td>\n",
              "      <td>0</td>\n",
              "      <td>1</td>\n",
              "      <td>0</td>\n",
              "      <td>8314</td>\n",
              "    </tr>\n",
              "    <tr>\n",
              "      <th>2015-07-31</th>\n",
              "      <td>4</td>\n",
              "      <td>5</td>\n",
              "      <td>1</td>\n",
              "      <td>1</td>\n",
              "      <td>0</td>\n",
              "      <td>1</td>\n",
              "      <td>2015</td>\n",
              "      <td>7</td>\n",
              "      <td>31</td>\n",
              "      <td>31</td>\n",
              "      <td>...</td>\n",
              "      <td>1</td>\n",
              "      <td>0</td>\n",
              "      <td>0</td>\n",
              "      <td>0</td>\n",
              "      <td>1</td>\n",
              "      <td>1</td>\n",
              "      <td>0</td>\n",
              "      <td>0</td>\n",
              "      <td>0</td>\n",
              "      <td>13995</td>\n",
              "    </tr>\n",
              "    <tr>\n",
              "      <th>2015-07-31</th>\n",
              "      <td>5</td>\n",
              "      <td>5</td>\n",
              "      <td>1</td>\n",
              "      <td>1</td>\n",
              "      <td>0</td>\n",
              "      <td>1</td>\n",
              "      <td>2015</td>\n",
              "      <td>7</td>\n",
              "      <td>31</td>\n",
              "      <td>31</td>\n",
              "      <td>...</td>\n",
              "      <td>0</td>\n",
              "      <td>0</td>\n",
              "      <td>1</td>\n",
              "      <td>0</td>\n",
              "      <td>0</td>\n",
              "      <td>1</td>\n",
              "      <td>0</td>\n",
              "      <td>0</td>\n",
              "      <td>0</td>\n",
              "      <td>4822</td>\n",
              "    </tr>\n",
              "    <tr>\n",
              "      <th>...</th>\n",
              "      <td>...</td>\n",
              "      <td>...</td>\n",
              "      <td>...</td>\n",
              "      <td>...</td>\n",
              "      <td>...</td>\n",
              "      <td>...</td>\n",
              "      <td>...</td>\n",
              "      <td>...</td>\n",
              "      <td>...</td>\n",
              "      <td>...</td>\n",
              "      <td>...</td>\n",
              "      <td>...</td>\n",
              "      <td>...</td>\n",
              "      <td>...</td>\n",
              "      <td>...</td>\n",
              "      <td>...</td>\n",
              "      <td>...</td>\n",
              "      <td>...</td>\n",
              "      <td>...</td>\n",
              "      <td>...</td>\n",
              "      <td>...</td>\n",
              "    </tr>\n",
              "    <tr>\n",
              "      <th>2013-01-01</th>\n",
              "      <td>682</td>\n",
              "      <td>2</td>\n",
              "      <td>1</td>\n",
              "      <td>0</td>\n",
              "      <td>1</td>\n",
              "      <td>1</td>\n",
              "      <td>2013</td>\n",
              "      <td>1</td>\n",
              "      <td>1</td>\n",
              "      <td>1</td>\n",
              "      <td>...</td>\n",
              "      <td>0</td>\n",
              "      <td>0</td>\n",
              "      <td>1</td>\n",
              "      <td>0</td>\n",
              "      <td>0</td>\n",
              "      <td>1</td>\n",
              "      <td>0</td>\n",
              "      <td>0</td>\n",
              "      <td>0</td>\n",
              "      <td>3375</td>\n",
              "    </tr>\n",
              "    <tr>\n",
              "      <th>2013-01-01</th>\n",
              "      <td>733</td>\n",
              "      <td>2</td>\n",
              "      <td>1</td>\n",
              "      <td>0</td>\n",
              "      <td>1</td>\n",
              "      <td>1</td>\n",
              "      <td>2013</td>\n",
              "      <td>1</td>\n",
              "      <td>1</td>\n",
              "      <td>1</td>\n",
              "      <td>...</td>\n",
              "      <td>0</td>\n",
              "      <td>0</td>\n",
              "      <td>0</td>\n",
              "      <td>1</td>\n",
              "      <td>0</td>\n",
              "      <td>1</td>\n",
              "      <td>0</td>\n",
              "      <td>0</td>\n",
              "      <td>0</td>\n",
              "      <td>10765</td>\n",
              "    </tr>\n",
              "    <tr>\n",
              "      <th>2013-01-01</th>\n",
              "      <td>769</td>\n",
              "      <td>2</td>\n",
              "      <td>1</td>\n",
              "      <td>0</td>\n",
              "      <td>1</td>\n",
              "      <td>1</td>\n",
              "      <td>2013</td>\n",
              "      <td>1</td>\n",
              "      <td>1</td>\n",
              "      <td>1</td>\n",
              "      <td>...</td>\n",
              "      <td>0</td>\n",
              "      <td>0</td>\n",
              "      <td>0</td>\n",
              "      <td>1</td>\n",
              "      <td>0</td>\n",
              "      <td>0</td>\n",
              "      <td>0</td>\n",
              "      <td>1</td>\n",
              "      <td>0</td>\n",
              "      <td>5035</td>\n",
              "    </tr>\n",
              "    <tr>\n",
              "      <th>2013-01-01</th>\n",
              "      <td>948</td>\n",
              "      <td>2</td>\n",
              "      <td>1</td>\n",
              "      <td>0</td>\n",
              "      <td>1</td>\n",
              "      <td>1</td>\n",
              "      <td>2013</td>\n",
              "      <td>1</td>\n",
              "      <td>1</td>\n",
              "      <td>1</td>\n",
              "      <td>...</td>\n",
              "      <td>0</td>\n",
              "      <td>0</td>\n",
              "      <td>0</td>\n",
              "      <td>1</td>\n",
              "      <td>0</td>\n",
              "      <td>1</td>\n",
              "      <td>0</td>\n",
              "      <td>0</td>\n",
              "      <td>0</td>\n",
              "      <td>4491</td>\n",
              "    </tr>\n",
              "    <tr>\n",
              "      <th>2013-01-01</th>\n",
              "      <td>1097</td>\n",
              "      <td>2</td>\n",
              "      <td>1</td>\n",
              "      <td>0</td>\n",
              "      <td>1</td>\n",
              "      <td>1</td>\n",
              "      <td>2013</td>\n",
              "      <td>1</td>\n",
              "      <td>1</td>\n",
              "      <td>1</td>\n",
              "      <td>...</td>\n",
              "      <td>0</td>\n",
              "      <td>0</td>\n",
              "      <td>0</td>\n",
              "      <td>1</td>\n",
              "      <td>0</td>\n",
              "      <td>1</td>\n",
              "      <td>0</td>\n",
              "      <td>0</td>\n",
              "      <td>0</td>\n",
              "      <td>5961</td>\n",
              "    </tr>\n",
              "  </tbody>\n",
              "</table>\n",
              "<p>844338 rows × 28 columns</p>\n",
              "</div>\n",
              "      <button class=\"colab-df-convert\" onclick=\"convertToInteractive('df-d5eabec1-6f8f-45e3-8077-c721ac9ce794')\"\n",
              "              title=\"Convert this dataframe to an interactive table.\"\n",
              "              style=\"display:none;\">\n",
              "        \n",
              "  <svg xmlns=\"http://www.w3.org/2000/svg\" height=\"24px\"viewBox=\"0 0 24 24\"\n",
              "       width=\"24px\">\n",
              "    <path d=\"M0 0h24v24H0V0z\" fill=\"none\"/>\n",
              "    <path d=\"M18.56 5.44l.94 2.06.94-2.06 2.06-.94-2.06-.94-.94-2.06-.94 2.06-2.06.94zm-11 1L8.5 8.5l.94-2.06 2.06-.94-2.06-.94L8.5 2.5l-.94 2.06-2.06.94zm10 10l.94 2.06.94-2.06 2.06-.94-2.06-.94-.94-2.06-.94 2.06-2.06.94z\"/><path d=\"M17.41 7.96l-1.37-1.37c-.4-.4-.92-.59-1.43-.59-.52 0-1.04.2-1.43.59L10.3 9.45l-7.72 7.72c-.78.78-.78 2.05 0 2.83L4 21.41c.39.39.9.59 1.41.59.51 0 1.02-.2 1.41-.59l7.78-7.78 2.81-2.81c.8-.78.8-2.07 0-2.86zM5.41 20L4 18.59l7.72-7.72 1.47 1.35L5.41 20z\"/>\n",
              "  </svg>\n",
              "      </button>\n",
              "      \n",
              "  <style>\n",
              "    .colab-df-container {\n",
              "      display:flex;\n",
              "      flex-wrap:wrap;\n",
              "      gap: 12px;\n",
              "    }\n",
              "\n",
              "    .colab-df-convert {\n",
              "      background-color: #E8F0FE;\n",
              "      border: none;\n",
              "      border-radius: 50%;\n",
              "      cursor: pointer;\n",
              "      display: none;\n",
              "      fill: #1967D2;\n",
              "      height: 32px;\n",
              "      padding: 0 0 0 0;\n",
              "      width: 32px;\n",
              "    }\n",
              "\n",
              "    .colab-df-convert:hover {\n",
              "      background-color: #E2EBFA;\n",
              "      box-shadow: 0px 1px 2px rgba(60, 64, 67, 0.3), 0px 1px 3px 1px rgba(60, 64, 67, 0.15);\n",
              "      fill: #174EA6;\n",
              "    }\n",
              "\n",
              "    [theme=dark] .colab-df-convert {\n",
              "      background-color: #3B4455;\n",
              "      fill: #D2E3FC;\n",
              "    }\n",
              "\n",
              "    [theme=dark] .colab-df-convert:hover {\n",
              "      background-color: #434B5C;\n",
              "      box-shadow: 0px 1px 3px 1px rgba(0, 0, 0, 0.15);\n",
              "      filter: drop-shadow(0px 1px 2px rgba(0, 0, 0, 0.3));\n",
              "      fill: #FFFFFF;\n",
              "    }\n",
              "  </style>\n",
              "\n",
              "      <script>\n",
              "        const buttonEl =\n",
              "          document.querySelector('#df-d5eabec1-6f8f-45e3-8077-c721ac9ce794 button.colab-df-convert');\n",
              "        buttonEl.style.display =\n",
              "          google.colab.kernel.accessAllowed ? 'block' : 'none';\n",
              "\n",
              "        async function convertToInteractive(key) {\n",
              "          const element = document.querySelector('#df-d5eabec1-6f8f-45e3-8077-c721ac9ce794');\n",
              "          const dataTable =\n",
              "            await google.colab.kernel.invokeFunction('convertToInteractive',\n",
              "                                                     [key], {});\n",
              "          if (!dataTable) return;\n",
              "\n",
              "          const docLinkHtml = 'Like what you see? Visit the ' +\n",
              "            '<a target=\"_blank\" href=https://colab.research.google.com/notebooks/data_table.ipynb>data table notebook</a>'\n",
              "            + ' to learn more about interactive tables.';\n",
              "          element.innerHTML = '';\n",
              "          dataTable['output_type'] = 'display_data';\n",
              "          await google.colab.output.renderOutput(dataTable, element);\n",
              "          const docLink = document.createElement('div');\n",
              "          docLink.innerHTML = docLinkHtml;\n",
              "          element.appendChild(docLink);\n",
              "        }\n",
              "      </script>\n",
              "    </div>\n",
              "  </div>\n",
              "  "
            ]
          },
          "metadata": {},
          "execution_count": 31
        }
      ]
    },
    {
      "cell_type": "code",
      "source": [
        "print(col_name)"
      ],
      "metadata": {
        "colab": {
          "base_uri": "https://localhost:8080/"
        },
        "id": "9bgYw97HmTIF",
        "outputId": "1cb62448-0c5d-420e-8e4b-bccd9d281af3"
      },
      "execution_count": null,
      "outputs": [
        {
          "output_type": "stream",
          "name": "stdout",
          "text": [
            "['Store', 'DayOfWeek', 'Open', 'Promo', 'StateHoliday', 'SchoolHoliday', 'Year', 'Month', 'Day', 'WeekOfYear', 'CompetitionDistance', 'CompetitionOpenSinceMonth', 'CompetitionOpenSinceYear', 'Promo2', 'Promo2SinceWeek', 'Promo2SinceYear', 'StoreType_a', 'StoreType_b', 'StoreType_c', 'StoreType_d', 'Assortment_a', 'Assortment_b', 'Assortment_c', 'PromoInterval_0', 'PromoInterval_Feb,May,Aug,Nov', 'PromoInterval_Jan,Apr,Jul,Oct', 'PromoInterval_Mar,Jun,Sept,Dec']\n"
          ]
        }
      ]
    },
    {
      "cell_type": "code",
      "source": [
        "# scaler = MinMaxScaler()\n",
        "# scaler.fit(X.values.reshape([-1, 1]))\n",
        "# X_Scaled = scaler.transform(X.values.reshape(-1, 1))\n",
        "scaled_features = StandardScaler().fit_transform(X)\n",
        "scaled_features_df = pd.DataFrame(scaled_features, index=X.index, columns=X.columns)\n",
        "scaled_features_df.tail()"
      ],
      "metadata": {
        "colab": {
          "base_uri": "https://localhost:8080/",
          "height": 418
        },
        "id": "1_6z7AwW_wf8",
        "outputId": "71562f42-dea4-418a-be35-75d8326fb957"
      },
      "execution_count": 63,
      "outputs": [
        {
          "output_type": "execute_result",
          "data": {
            "text/plain": [
              "               Store  DayOfWeek  Open     Promo  StateHoliday  SchoolHoliday  \\\n",
              "date                                                                           \n",
              "2013-01-01  0.384106  -0.882021   0.0 -0.897894     30.444112        2.04105   \n",
              "2013-01-01  0.542624  -0.882021   0.0 -0.897894     30.444112        2.04105   \n",
              "2013-01-01  0.654518  -0.882021   0.0 -0.897894     30.444112        2.04105   \n",
              "2013-01-01  1.210884  -0.882021   0.0 -0.897894     30.444112        2.04105   \n",
              "2013-01-01  1.674005  -0.882021   0.0 -0.897894     30.444112        2.04105   \n",
              "\n",
              "                Year     Month       Day  WeekOfYear  ...  StoreType_c  \\\n",
              "date                                                  ...                \n",
              "2013-01-01 -1.070341 -1.457833 -1.708516   -1.573806  ...    -0.393015   \n",
              "2013-01-01 -1.070341 -1.457833 -1.708516   -1.573806  ...    -0.393015   \n",
              "2013-01-01 -1.070341 -1.457833 -1.708516   -1.573806  ...    -0.393015   \n",
              "2013-01-01 -1.070341 -1.457833 -1.708516   -1.573806  ...    -0.393015   \n",
              "2013-01-01 -1.070341 -1.457833 -1.708516   -1.573806  ...    -0.393015   \n",
              "\n",
              "            StoreType_d  Assortment_a  Assortment_b  Assortment_c  \\\n",
              "date                                                                \n",
              "2013-01-01    -0.664762      0.947587     -0.099085     -0.929266   \n",
              "2013-01-01    -0.664762     -1.055312     10.092332     -0.929266   \n",
              "2013-01-01    -0.664762     -1.055312     10.092332     -0.929266   \n",
              "2013-01-01    -0.664762     -1.055312     10.092332     -0.929266   \n",
              "2013-01-01    -0.664762     -1.055312     10.092332     -0.929266   \n",
              "\n",
              "            PromoInterval_0  PromoInterval_Feb,May,Aug,Nov  \\\n",
              "date                                                         \n",
              "2013-01-01         0.997343                       -0.36236   \n",
              "2013-01-01         0.997343                       -0.36236   \n",
              "2013-01-01        -1.002664                       -0.36236   \n",
              "2013-01-01         0.997343                       -0.36236   \n",
              "2013-01-01         0.997343                       -0.36236   \n",
              "\n",
              "            PromoInterval_Jan,Apr,Jul,Oct  PromoInterval_Mar,Jun,Sept,Dec  \\\n",
              "date                                                                        \n",
              "2013-01-01                      -0.634580                       -0.324973   \n",
              "2013-01-01                      -0.634580                       -0.324973   \n",
              "2013-01-01                       1.575844                       -0.324973   \n",
              "2013-01-01                      -0.634580                       -0.324973   \n",
              "2013-01-01                      -0.634580                       -0.324973   \n",
              "\n",
              "               Sales  \n",
              "date                  \n",
              "2013-01-01 -1.153729  \n",
              "2013-01-01  1.227213  \n",
              "2013-01-01 -0.618903  \n",
              "2013-01-01 -0.794171  \n",
              "2013-01-01 -0.320560  \n",
              "\n",
              "[5 rows x 28 columns]"
            ],
            "text/html": [
              "\n",
              "  <div id=\"df-636bc38d-a6f3-49f1-929f-538c229c5523\">\n",
              "    <div class=\"colab-df-container\">\n",
              "      <div>\n",
              "<style scoped>\n",
              "    .dataframe tbody tr th:only-of-type {\n",
              "        vertical-align: middle;\n",
              "    }\n",
              "\n",
              "    .dataframe tbody tr th {\n",
              "        vertical-align: top;\n",
              "    }\n",
              "\n",
              "    .dataframe thead th {\n",
              "        text-align: right;\n",
              "    }\n",
              "</style>\n",
              "<table border=\"1\" class=\"dataframe\">\n",
              "  <thead>\n",
              "    <tr style=\"text-align: right;\">\n",
              "      <th></th>\n",
              "      <th>Store</th>\n",
              "      <th>DayOfWeek</th>\n",
              "      <th>Open</th>\n",
              "      <th>Promo</th>\n",
              "      <th>StateHoliday</th>\n",
              "      <th>SchoolHoliday</th>\n",
              "      <th>Year</th>\n",
              "      <th>Month</th>\n",
              "      <th>Day</th>\n",
              "      <th>WeekOfYear</th>\n",
              "      <th>...</th>\n",
              "      <th>StoreType_c</th>\n",
              "      <th>StoreType_d</th>\n",
              "      <th>Assortment_a</th>\n",
              "      <th>Assortment_b</th>\n",
              "      <th>Assortment_c</th>\n",
              "      <th>PromoInterval_0</th>\n",
              "      <th>PromoInterval_Feb,May,Aug,Nov</th>\n",
              "      <th>PromoInterval_Jan,Apr,Jul,Oct</th>\n",
              "      <th>PromoInterval_Mar,Jun,Sept,Dec</th>\n",
              "      <th>Sales</th>\n",
              "    </tr>\n",
              "    <tr>\n",
              "      <th>date</th>\n",
              "      <th></th>\n",
              "      <th></th>\n",
              "      <th></th>\n",
              "      <th></th>\n",
              "      <th></th>\n",
              "      <th></th>\n",
              "      <th></th>\n",
              "      <th></th>\n",
              "      <th></th>\n",
              "      <th></th>\n",
              "      <th></th>\n",
              "      <th></th>\n",
              "      <th></th>\n",
              "      <th></th>\n",
              "      <th></th>\n",
              "      <th></th>\n",
              "      <th></th>\n",
              "      <th></th>\n",
              "      <th></th>\n",
              "      <th></th>\n",
              "      <th></th>\n",
              "    </tr>\n",
              "  </thead>\n",
              "  <tbody>\n",
              "    <tr>\n",
              "      <th>2013-01-01</th>\n",
              "      <td>0.384106</td>\n",
              "      <td>-0.882021</td>\n",
              "      <td>0.0</td>\n",
              "      <td>-0.897894</td>\n",
              "      <td>30.444112</td>\n",
              "      <td>2.04105</td>\n",
              "      <td>-1.070341</td>\n",
              "      <td>-1.457833</td>\n",
              "      <td>-1.708516</td>\n",
              "      <td>-1.573806</td>\n",
              "      <td>...</td>\n",
              "      <td>-0.393015</td>\n",
              "      <td>-0.664762</td>\n",
              "      <td>0.947587</td>\n",
              "      <td>-0.099085</td>\n",
              "      <td>-0.929266</td>\n",
              "      <td>0.997343</td>\n",
              "      <td>-0.36236</td>\n",
              "      <td>-0.634580</td>\n",
              "      <td>-0.324973</td>\n",
              "      <td>-1.153729</td>\n",
              "    </tr>\n",
              "    <tr>\n",
              "      <th>2013-01-01</th>\n",
              "      <td>0.542624</td>\n",
              "      <td>-0.882021</td>\n",
              "      <td>0.0</td>\n",
              "      <td>-0.897894</td>\n",
              "      <td>30.444112</td>\n",
              "      <td>2.04105</td>\n",
              "      <td>-1.070341</td>\n",
              "      <td>-1.457833</td>\n",
              "      <td>-1.708516</td>\n",
              "      <td>-1.573806</td>\n",
              "      <td>...</td>\n",
              "      <td>-0.393015</td>\n",
              "      <td>-0.664762</td>\n",
              "      <td>-1.055312</td>\n",
              "      <td>10.092332</td>\n",
              "      <td>-0.929266</td>\n",
              "      <td>0.997343</td>\n",
              "      <td>-0.36236</td>\n",
              "      <td>-0.634580</td>\n",
              "      <td>-0.324973</td>\n",
              "      <td>1.227213</td>\n",
              "    </tr>\n",
              "    <tr>\n",
              "      <th>2013-01-01</th>\n",
              "      <td>0.654518</td>\n",
              "      <td>-0.882021</td>\n",
              "      <td>0.0</td>\n",
              "      <td>-0.897894</td>\n",
              "      <td>30.444112</td>\n",
              "      <td>2.04105</td>\n",
              "      <td>-1.070341</td>\n",
              "      <td>-1.457833</td>\n",
              "      <td>-1.708516</td>\n",
              "      <td>-1.573806</td>\n",
              "      <td>...</td>\n",
              "      <td>-0.393015</td>\n",
              "      <td>-0.664762</td>\n",
              "      <td>-1.055312</td>\n",
              "      <td>10.092332</td>\n",
              "      <td>-0.929266</td>\n",
              "      <td>-1.002664</td>\n",
              "      <td>-0.36236</td>\n",
              "      <td>1.575844</td>\n",
              "      <td>-0.324973</td>\n",
              "      <td>-0.618903</td>\n",
              "    </tr>\n",
              "    <tr>\n",
              "      <th>2013-01-01</th>\n",
              "      <td>1.210884</td>\n",
              "      <td>-0.882021</td>\n",
              "      <td>0.0</td>\n",
              "      <td>-0.897894</td>\n",
              "      <td>30.444112</td>\n",
              "      <td>2.04105</td>\n",
              "      <td>-1.070341</td>\n",
              "      <td>-1.457833</td>\n",
              "      <td>-1.708516</td>\n",
              "      <td>-1.573806</td>\n",
              "      <td>...</td>\n",
              "      <td>-0.393015</td>\n",
              "      <td>-0.664762</td>\n",
              "      <td>-1.055312</td>\n",
              "      <td>10.092332</td>\n",
              "      <td>-0.929266</td>\n",
              "      <td>0.997343</td>\n",
              "      <td>-0.36236</td>\n",
              "      <td>-0.634580</td>\n",
              "      <td>-0.324973</td>\n",
              "      <td>-0.794171</td>\n",
              "    </tr>\n",
              "    <tr>\n",
              "      <th>2013-01-01</th>\n",
              "      <td>1.674005</td>\n",
              "      <td>-0.882021</td>\n",
              "      <td>0.0</td>\n",
              "      <td>-0.897894</td>\n",
              "      <td>30.444112</td>\n",
              "      <td>2.04105</td>\n",
              "      <td>-1.070341</td>\n",
              "      <td>-1.457833</td>\n",
              "      <td>-1.708516</td>\n",
              "      <td>-1.573806</td>\n",
              "      <td>...</td>\n",
              "      <td>-0.393015</td>\n",
              "      <td>-0.664762</td>\n",
              "      <td>-1.055312</td>\n",
              "      <td>10.092332</td>\n",
              "      <td>-0.929266</td>\n",
              "      <td>0.997343</td>\n",
              "      <td>-0.36236</td>\n",
              "      <td>-0.634580</td>\n",
              "      <td>-0.324973</td>\n",
              "      <td>-0.320560</td>\n",
              "    </tr>\n",
              "  </tbody>\n",
              "</table>\n",
              "<p>5 rows × 28 columns</p>\n",
              "</div>\n",
              "      <button class=\"colab-df-convert\" onclick=\"convertToInteractive('df-636bc38d-a6f3-49f1-929f-538c229c5523')\"\n",
              "              title=\"Convert this dataframe to an interactive table.\"\n",
              "              style=\"display:none;\">\n",
              "        \n",
              "  <svg xmlns=\"http://www.w3.org/2000/svg\" height=\"24px\"viewBox=\"0 0 24 24\"\n",
              "       width=\"24px\">\n",
              "    <path d=\"M0 0h24v24H0V0z\" fill=\"none\"/>\n",
              "    <path d=\"M18.56 5.44l.94 2.06.94-2.06 2.06-.94-2.06-.94-.94-2.06-.94 2.06-2.06.94zm-11 1L8.5 8.5l.94-2.06 2.06-.94-2.06-.94L8.5 2.5l-.94 2.06-2.06.94zm10 10l.94 2.06.94-2.06 2.06-.94-2.06-.94-.94-2.06-.94 2.06-2.06.94z\"/><path d=\"M17.41 7.96l-1.37-1.37c-.4-.4-.92-.59-1.43-.59-.52 0-1.04.2-1.43.59L10.3 9.45l-7.72 7.72c-.78.78-.78 2.05 0 2.83L4 21.41c.39.39.9.59 1.41.59.51 0 1.02-.2 1.41-.59l7.78-7.78 2.81-2.81c.8-.78.8-2.07 0-2.86zM5.41 20L4 18.59l7.72-7.72 1.47 1.35L5.41 20z\"/>\n",
              "  </svg>\n",
              "      </button>\n",
              "      \n",
              "  <style>\n",
              "    .colab-df-container {\n",
              "      display:flex;\n",
              "      flex-wrap:wrap;\n",
              "      gap: 12px;\n",
              "    }\n",
              "\n",
              "    .colab-df-convert {\n",
              "      background-color: #E8F0FE;\n",
              "      border: none;\n",
              "      border-radius: 50%;\n",
              "      cursor: pointer;\n",
              "      display: none;\n",
              "      fill: #1967D2;\n",
              "      height: 32px;\n",
              "      padding: 0 0 0 0;\n",
              "      width: 32px;\n",
              "    }\n",
              "\n",
              "    .colab-df-convert:hover {\n",
              "      background-color: #E2EBFA;\n",
              "      box-shadow: 0px 1px 2px rgba(60, 64, 67, 0.3), 0px 1px 3px 1px rgba(60, 64, 67, 0.15);\n",
              "      fill: #174EA6;\n",
              "    }\n",
              "\n",
              "    [theme=dark] .colab-df-convert {\n",
              "      background-color: #3B4455;\n",
              "      fill: #D2E3FC;\n",
              "    }\n",
              "\n",
              "    [theme=dark] .colab-df-convert:hover {\n",
              "      background-color: #434B5C;\n",
              "      box-shadow: 0px 1px 3px 1px rgba(0, 0, 0, 0.15);\n",
              "      filter: drop-shadow(0px 1px 2px rgba(0, 0, 0, 0.3));\n",
              "      fill: #FFFFFF;\n",
              "    }\n",
              "  </style>\n",
              "\n",
              "      <script>\n",
              "        const buttonEl =\n",
              "          document.querySelector('#df-636bc38d-a6f3-49f1-929f-538c229c5523 button.colab-df-convert');\n",
              "        buttonEl.style.display =\n",
              "          google.colab.kernel.accessAllowed ? 'block' : 'none';\n",
              "\n",
              "        async function convertToInteractive(key) {\n",
              "          const element = document.querySelector('#df-636bc38d-a6f3-49f1-929f-538c229c5523');\n",
              "          const dataTable =\n",
              "            await google.colab.kernel.invokeFunction('convertToInteractive',\n",
              "                                                     [key], {});\n",
              "          if (!dataTable) return;\n",
              "\n",
              "          const docLinkHtml = 'Like what you see? Visit the ' +\n",
              "            '<a target=\"_blank\" href=https://colab.research.google.com/notebooks/data_table.ipynb>data table notebook</a>'\n",
              "            + ' to learn more about interactive tables.';\n",
              "          element.innerHTML = '';\n",
              "          dataTable['output_type'] = 'display_data';\n",
              "          await google.colab.output.renderOutput(dataTable, element);\n",
              "          const docLink = document.createElement('div');\n",
              "          docLink.innerHTML = docLinkHtml;\n",
              "          element.appendChild(docLink);\n",
              "        }\n",
              "      </script>\n",
              "    </div>\n",
              "  </div>\n",
              "  "
            ]
          },
          "metadata": {},
          "execution_count": 63
        }
      ]
    },
    {
      "cell_type": "code",
      "source": [
        "scaled_features_df.describe()"
      ],
      "metadata": {
        "colab": {
          "base_uri": "https://localhost:8080/",
          "height": 480
        },
        "id": "-fAyGed3bak1",
        "outputId": "96a4cf99-f8f7-4ef6-804d-886bb7c20012"
      },
      "execution_count": null,
      "outputs": [
        {
          "output_type": "execute_result",
          "data": {
            "text/plain": [
              "              Store     DayOfWeek      Open         Promo  StateHoliday  \\\n",
              "count  8.443380e+05  8.443380e+05  844338.0  8.443380e+05  8.443380e+05   \n",
              "mean  -1.358269e-16 -1.003024e-14       0.0 -9.872465e-14  1.619193e-14   \n",
              "std    1.000001e+00  1.000001e+00       0.0  1.000001e+00  1.000001e+00   \n",
              "min   -1.732571e+00 -1.462165e+00       0.0 -8.978939e-01 -3.284707e-02   \n",
              "25%   -8.653865e-01 -8.820210e-01       0.0 -8.978939e-01 -3.284707e-02   \n",
              "50%   -1.309710e-03 -3.018775e-01       0.0 -8.978939e-01 -3.284707e-02   \n",
              "75%    8.658753e-01  8.584096e-01       0.0  1.113717e+00 -3.284707e-02   \n",
              "max    1.729952e+00  2.018697e+00       0.0  1.113717e+00  3.044411e+01   \n",
              "\n",
              "       SchoolHoliday          Year         Month           Day    WeekOfYear  \\\n",
              "count   8.443380e+05  8.443380e+05  8.443380e+05  8.443380e+05  8.443380e+05   \n",
              "mean    1.281380e-14  7.648785e-12 -8.303032e-14  1.018465e-14 -1.956042e-13   \n",
              "std     1.000001e+00  1.000001e+00  1.000001e+00  1.000001e+00  1.000001e+00   \n",
              "min    -4.899439e-01 -1.070341e+00 -1.457833e+00 -1.708516e+00 -1.573806e+00   \n",
              "25%    -4.899439e-01 -1.070341e+00 -8.561403e-01 -9.023790e-01 -8.788752e-01   \n",
              "50%    -4.899439e-01  2.162113e-01  4.639835e-02  1.892054e-02 -4.495826e-02   \n",
              "75%    -4.899439e-01  2.162113e-01  6.480908e-01  8.250576e-01  7.889587e-01   \n",
              "max     2.041050e+00  1.502764e+00  1.851476e+00  1.746357e+00  1.970341e+00   \n",
              "\n",
              "       ...   StoreType_b   StoreType_c   StoreType_d  Assortment_a  \\\n",
              "count  ...  8.443380e+05  8.443380e+05  8.443380e+05  8.443380e+05   \n",
              "mean   ...  2.269212e-14  9.108757e-15  2.521003e-14  2.034186e-14   \n",
              "std    ...  1.000001e+00  1.000001e+00  1.000001e+00  1.000001e+00   \n",
              "min    ... -1.370205e-01 -3.930150e-01 -6.647615e-01 -1.055312e+00   \n",
              "25%    ... -1.370205e-01 -3.930150e-01 -6.647615e-01 -1.055312e+00   \n",
              "50%    ... -1.370205e-01 -3.930150e-01 -6.647615e-01  9.475874e-01   \n",
              "75%    ... -1.370205e-01 -3.930150e-01  1.504299e+00  9.475874e-01   \n",
              "max    ...  7.298176e+00  2.544432e+00  1.504299e+00  9.475874e-01   \n",
              "\n",
              "       Assortment_b  Assortment_c  PromoInterval_0  \\\n",
              "count  8.443380e+05  8.443380e+05     8.443380e+05   \n",
              "mean   2.921248e-14  2.055483e-14     1.186434e-13   \n",
              "std    1.000001e+00  1.000001e+00     1.000001e+00   \n",
              "min   -9.908513e-02 -9.292660e-01    -1.002664e+00   \n",
              "25%   -9.908513e-02 -9.292660e-01    -1.002664e+00   \n",
              "50%   -9.908513e-02 -9.292660e-01     9.973435e-01   \n",
              "75%   -9.908513e-02  1.076118e+00     9.973435e-01   \n",
              "max    1.009233e+01  1.076118e+00     9.973435e-01   \n",
              "\n",
              "       PromoInterval_Feb,May,Aug,Nov  PromoInterval_Jan,Apr,Jul,Oct  \\\n",
              "count                   8.443380e+05                   8.443380e+05   \n",
              "mean                   -1.023832e-15                   1.064473e-13   \n",
              "std                     1.000001e+00                   1.000001e+00   \n",
              "min                    -3.623600e-01                  -6.345804e-01   \n",
              "25%                    -3.623600e-01                  -6.345804e-01   \n",
              "50%                    -3.623600e-01                  -6.345804e-01   \n",
              "75%                    -3.623600e-01                   1.575844e+00   \n",
              "max                     2.759687e+00                   1.575844e+00   \n",
              "\n",
              "       PromoInterval_Mar,Jun,Sept,Dec  \n",
              "count                    8.443380e+05  \n",
              "mean                     1.588468e-14  \n",
              "std                      1.000001e+00  \n",
              "min                     -3.249729e-01  \n",
              "25%                     -3.249729e-01  \n",
              "50%                     -3.249729e-01  \n",
              "75%                     -3.249729e-01  \n",
              "max                      3.077179e+00  \n",
              "\n",
              "[8 rows x 27 columns]"
            ],
            "text/html": [
              "\n",
              "  <div id=\"df-ef4d7b34-e47b-48d9-b373-fe30855f9bf6\">\n",
              "    <div class=\"colab-df-container\">\n",
              "      <div>\n",
              "<style scoped>\n",
              "    .dataframe tbody tr th:only-of-type {\n",
              "        vertical-align: middle;\n",
              "    }\n",
              "\n",
              "    .dataframe tbody tr th {\n",
              "        vertical-align: top;\n",
              "    }\n",
              "\n",
              "    .dataframe thead th {\n",
              "        text-align: right;\n",
              "    }\n",
              "</style>\n",
              "<table border=\"1\" class=\"dataframe\">\n",
              "  <thead>\n",
              "    <tr style=\"text-align: right;\">\n",
              "      <th></th>\n",
              "      <th>Store</th>\n",
              "      <th>DayOfWeek</th>\n",
              "      <th>Open</th>\n",
              "      <th>Promo</th>\n",
              "      <th>StateHoliday</th>\n",
              "      <th>SchoolHoliday</th>\n",
              "      <th>Year</th>\n",
              "      <th>Month</th>\n",
              "      <th>Day</th>\n",
              "      <th>WeekOfYear</th>\n",
              "      <th>...</th>\n",
              "      <th>StoreType_b</th>\n",
              "      <th>StoreType_c</th>\n",
              "      <th>StoreType_d</th>\n",
              "      <th>Assortment_a</th>\n",
              "      <th>Assortment_b</th>\n",
              "      <th>Assortment_c</th>\n",
              "      <th>PromoInterval_0</th>\n",
              "      <th>PromoInterval_Feb,May,Aug,Nov</th>\n",
              "      <th>PromoInterval_Jan,Apr,Jul,Oct</th>\n",
              "      <th>PromoInterval_Mar,Jun,Sept,Dec</th>\n",
              "    </tr>\n",
              "  </thead>\n",
              "  <tbody>\n",
              "    <tr>\n",
              "      <th>count</th>\n",
              "      <td>8.443380e+05</td>\n",
              "      <td>8.443380e+05</td>\n",
              "      <td>844338.0</td>\n",
              "      <td>8.443380e+05</td>\n",
              "      <td>8.443380e+05</td>\n",
              "      <td>8.443380e+05</td>\n",
              "      <td>8.443380e+05</td>\n",
              "      <td>8.443380e+05</td>\n",
              "      <td>8.443380e+05</td>\n",
              "      <td>8.443380e+05</td>\n",
              "      <td>...</td>\n",
              "      <td>8.443380e+05</td>\n",
              "      <td>8.443380e+05</td>\n",
              "      <td>8.443380e+05</td>\n",
              "      <td>8.443380e+05</td>\n",
              "      <td>8.443380e+05</td>\n",
              "      <td>8.443380e+05</td>\n",
              "      <td>8.443380e+05</td>\n",
              "      <td>8.443380e+05</td>\n",
              "      <td>8.443380e+05</td>\n",
              "      <td>8.443380e+05</td>\n",
              "    </tr>\n",
              "    <tr>\n",
              "      <th>mean</th>\n",
              "      <td>-1.358269e-16</td>\n",
              "      <td>-1.003024e-14</td>\n",
              "      <td>0.0</td>\n",
              "      <td>-9.872465e-14</td>\n",
              "      <td>1.619193e-14</td>\n",
              "      <td>1.281380e-14</td>\n",
              "      <td>7.648785e-12</td>\n",
              "      <td>-8.303032e-14</td>\n",
              "      <td>1.018465e-14</td>\n",
              "      <td>-1.956042e-13</td>\n",
              "      <td>...</td>\n",
              "      <td>2.269212e-14</td>\n",
              "      <td>9.108757e-15</td>\n",
              "      <td>2.521003e-14</td>\n",
              "      <td>2.034186e-14</td>\n",
              "      <td>2.921248e-14</td>\n",
              "      <td>2.055483e-14</td>\n",
              "      <td>1.186434e-13</td>\n",
              "      <td>-1.023832e-15</td>\n",
              "      <td>1.064473e-13</td>\n",
              "      <td>1.588468e-14</td>\n",
              "    </tr>\n",
              "    <tr>\n",
              "      <th>std</th>\n",
              "      <td>1.000001e+00</td>\n",
              "      <td>1.000001e+00</td>\n",
              "      <td>0.0</td>\n",
              "      <td>1.000001e+00</td>\n",
              "      <td>1.000001e+00</td>\n",
              "      <td>1.000001e+00</td>\n",
              "      <td>1.000001e+00</td>\n",
              "      <td>1.000001e+00</td>\n",
              "      <td>1.000001e+00</td>\n",
              "      <td>1.000001e+00</td>\n",
              "      <td>...</td>\n",
              "      <td>1.000001e+00</td>\n",
              "      <td>1.000001e+00</td>\n",
              "      <td>1.000001e+00</td>\n",
              "      <td>1.000001e+00</td>\n",
              "      <td>1.000001e+00</td>\n",
              "      <td>1.000001e+00</td>\n",
              "      <td>1.000001e+00</td>\n",
              "      <td>1.000001e+00</td>\n",
              "      <td>1.000001e+00</td>\n",
              "      <td>1.000001e+00</td>\n",
              "    </tr>\n",
              "    <tr>\n",
              "      <th>min</th>\n",
              "      <td>-1.732571e+00</td>\n",
              "      <td>-1.462165e+00</td>\n",
              "      <td>0.0</td>\n",
              "      <td>-8.978939e-01</td>\n",
              "      <td>-3.284707e-02</td>\n",
              "      <td>-4.899439e-01</td>\n",
              "      <td>-1.070341e+00</td>\n",
              "      <td>-1.457833e+00</td>\n",
              "      <td>-1.708516e+00</td>\n",
              "      <td>-1.573806e+00</td>\n",
              "      <td>...</td>\n",
              "      <td>-1.370205e-01</td>\n",
              "      <td>-3.930150e-01</td>\n",
              "      <td>-6.647615e-01</td>\n",
              "      <td>-1.055312e+00</td>\n",
              "      <td>-9.908513e-02</td>\n",
              "      <td>-9.292660e-01</td>\n",
              "      <td>-1.002664e+00</td>\n",
              "      <td>-3.623600e-01</td>\n",
              "      <td>-6.345804e-01</td>\n",
              "      <td>-3.249729e-01</td>\n",
              "    </tr>\n",
              "    <tr>\n",
              "      <th>25%</th>\n",
              "      <td>-8.653865e-01</td>\n",
              "      <td>-8.820210e-01</td>\n",
              "      <td>0.0</td>\n",
              "      <td>-8.978939e-01</td>\n",
              "      <td>-3.284707e-02</td>\n",
              "      <td>-4.899439e-01</td>\n",
              "      <td>-1.070341e+00</td>\n",
              "      <td>-8.561403e-01</td>\n",
              "      <td>-9.023790e-01</td>\n",
              "      <td>-8.788752e-01</td>\n",
              "      <td>...</td>\n",
              "      <td>-1.370205e-01</td>\n",
              "      <td>-3.930150e-01</td>\n",
              "      <td>-6.647615e-01</td>\n",
              "      <td>-1.055312e+00</td>\n",
              "      <td>-9.908513e-02</td>\n",
              "      <td>-9.292660e-01</td>\n",
              "      <td>-1.002664e+00</td>\n",
              "      <td>-3.623600e-01</td>\n",
              "      <td>-6.345804e-01</td>\n",
              "      <td>-3.249729e-01</td>\n",
              "    </tr>\n",
              "    <tr>\n",
              "      <th>50%</th>\n",
              "      <td>-1.309710e-03</td>\n",
              "      <td>-3.018775e-01</td>\n",
              "      <td>0.0</td>\n",
              "      <td>-8.978939e-01</td>\n",
              "      <td>-3.284707e-02</td>\n",
              "      <td>-4.899439e-01</td>\n",
              "      <td>2.162113e-01</td>\n",
              "      <td>4.639835e-02</td>\n",
              "      <td>1.892054e-02</td>\n",
              "      <td>-4.495826e-02</td>\n",
              "      <td>...</td>\n",
              "      <td>-1.370205e-01</td>\n",
              "      <td>-3.930150e-01</td>\n",
              "      <td>-6.647615e-01</td>\n",
              "      <td>9.475874e-01</td>\n",
              "      <td>-9.908513e-02</td>\n",
              "      <td>-9.292660e-01</td>\n",
              "      <td>9.973435e-01</td>\n",
              "      <td>-3.623600e-01</td>\n",
              "      <td>-6.345804e-01</td>\n",
              "      <td>-3.249729e-01</td>\n",
              "    </tr>\n",
              "    <tr>\n",
              "      <th>75%</th>\n",
              "      <td>8.658753e-01</td>\n",
              "      <td>8.584096e-01</td>\n",
              "      <td>0.0</td>\n",
              "      <td>1.113717e+00</td>\n",
              "      <td>-3.284707e-02</td>\n",
              "      <td>-4.899439e-01</td>\n",
              "      <td>2.162113e-01</td>\n",
              "      <td>6.480908e-01</td>\n",
              "      <td>8.250576e-01</td>\n",
              "      <td>7.889587e-01</td>\n",
              "      <td>...</td>\n",
              "      <td>-1.370205e-01</td>\n",
              "      <td>-3.930150e-01</td>\n",
              "      <td>1.504299e+00</td>\n",
              "      <td>9.475874e-01</td>\n",
              "      <td>-9.908513e-02</td>\n",
              "      <td>1.076118e+00</td>\n",
              "      <td>9.973435e-01</td>\n",
              "      <td>-3.623600e-01</td>\n",
              "      <td>1.575844e+00</td>\n",
              "      <td>-3.249729e-01</td>\n",
              "    </tr>\n",
              "    <tr>\n",
              "      <th>max</th>\n",
              "      <td>1.729952e+00</td>\n",
              "      <td>2.018697e+00</td>\n",
              "      <td>0.0</td>\n",
              "      <td>1.113717e+00</td>\n",
              "      <td>3.044411e+01</td>\n",
              "      <td>2.041050e+00</td>\n",
              "      <td>1.502764e+00</td>\n",
              "      <td>1.851476e+00</td>\n",
              "      <td>1.746357e+00</td>\n",
              "      <td>1.970341e+00</td>\n",
              "      <td>...</td>\n",
              "      <td>7.298176e+00</td>\n",
              "      <td>2.544432e+00</td>\n",
              "      <td>1.504299e+00</td>\n",
              "      <td>9.475874e-01</td>\n",
              "      <td>1.009233e+01</td>\n",
              "      <td>1.076118e+00</td>\n",
              "      <td>9.973435e-01</td>\n",
              "      <td>2.759687e+00</td>\n",
              "      <td>1.575844e+00</td>\n",
              "      <td>3.077179e+00</td>\n",
              "    </tr>\n",
              "  </tbody>\n",
              "</table>\n",
              "<p>8 rows × 27 columns</p>\n",
              "</div>\n",
              "      <button class=\"colab-df-convert\" onclick=\"convertToInteractive('df-ef4d7b34-e47b-48d9-b373-fe30855f9bf6')\"\n",
              "              title=\"Convert this dataframe to an interactive table.\"\n",
              "              style=\"display:none;\">\n",
              "        \n",
              "  <svg xmlns=\"http://www.w3.org/2000/svg\" height=\"24px\"viewBox=\"0 0 24 24\"\n",
              "       width=\"24px\">\n",
              "    <path d=\"M0 0h24v24H0V0z\" fill=\"none\"/>\n",
              "    <path d=\"M18.56 5.44l.94 2.06.94-2.06 2.06-.94-2.06-.94-.94-2.06-.94 2.06-2.06.94zm-11 1L8.5 8.5l.94-2.06 2.06-.94-2.06-.94L8.5 2.5l-.94 2.06-2.06.94zm10 10l.94 2.06.94-2.06 2.06-.94-2.06-.94-.94-2.06-.94 2.06-2.06.94z\"/><path d=\"M17.41 7.96l-1.37-1.37c-.4-.4-.92-.59-1.43-.59-.52 0-1.04.2-1.43.59L10.3 9.45l-7.72 7.72c-.78.78-.78 2.05 0 2.83L4 21.41c.39.39.9.59 1.41.59.51 0 1.02-.2 1.41-.59l7.78-7.78 2.81-2.81c.8-.78.8-2.07 0-2.86zM5.41 20L4 18.59l7.72-7.72 1.47 1.35L5.41 20z\"/>\n",
              "  </svg>\n",
              "      </button>\n",
              "      \n",
              "  <style>\n",
              "    .colab-df-container {\n",
              "      display:flex;\n",
              "      flex-wrap:wrap;\n",
              "      gap: 12px;\n",
              "    }\n",
              "\n",
              "    .colab-df-convert {\n",
              "      background-color: #E8F0FE;\n",
              "      border: none;\n",
              "      border-radius: 50%;\n",
              "      cursor: pointer;\n",
              "      display: none;\n",
              "      fill: #1967D2;\n",
              "      height: 32px;\n",
              "      padding: 0 0 0 0;\n",
              "      width: 32px;\n",
              "    }\n",
              "\n",
              "    .colab-df-convert:hover {\n",
              "      background-color: #E2EBFA;\n",
              "      box-shadow: 0px 1px 2px rgba(60, 64, 67, 0.3), 0px 1px 3px 1px rgba(60, 64, 67, 0.15);\n",
              "      fill: #174EA6;\n",
              "    }\n",
              "\n",
              "    [theme=dark] .colab-df-convert {\n",
              "      background-color: #3B4455;\n",
              "      fill: #D2E3FC;\n",
              "    }\n",
              "\n",
              "    [theme=dark] .colab-df-convert:hover {\n",
              "      background-color: #434B5C;\n",
              "      box-shadow: 0px 1px 3px 1px rgba(0, 0, 0, 0.15);\n",
              "      filter: drop-shadow(0px 1px 2px rgba(0, 0, 0, 0.3));\n",
              "      fill: #FFFFFF;\n",
              "    }\n",
              "  </style>\n",
              "\n",
              "      <script>\n",
              "        const buttonEl =\n",
              "          document.querySelector('#df-ef4d7b34-e47b-48d9-b373-fe30855f9bf6 button.colab-df-convert');\n",
              "        buttonEl.style.display =\n",
              "          google.colab.kernel.accessAllowed ? 'block' : 'none';\n",
              "\n",
              "        async function convertToInteractive(key) {\n",
              "          const element = document.querySelector('#df-ef4d7b34-e47b-48d9-b373-fe30855f9bf6');\n",
              "          const dataTable =\n",
              "            await google.colab.kernel.invokeFunction('convertToInteractive',\n",
              "                                                     [key], {});\n",
              "          if (!dataTable) return;\n",
              "\n",
              "          const docLinkHtml = 'Like what you see? Visit the ' +\n",
              "            '<a target=\"_blank\" href=https://colab.research.google.com/notebooks/data_table.ipynb>data table notebook</a>'\n",
              "            + ' to learn more about interactive tables.';\n",
              "          element.innerHTML = '';\n",
              "          dataTable['output_type'] = 'display_data';\n",
              "          await google.colab.output.renderOutput(dataTable, element);\n",
              "          const docLink = document.createElement('div');\n",
              "          docLink.innerHTML = docLinkHtml;\n",
              "          element.appendChild(docLink);\n",
              "        }\n",
              "      </script>\n",
              "    </div>\n",
              "  </div>\n",
              "  "
            ]
          },
          "metadata": {},
          "execution_count": 58
        }
      ]
    },
    {
      "cell_type": "markdown",
      "source": [
        "# checking stationary"
      ],
      "metadata": {
        "id": "QygAMlkz_MXZ"
      }
    },
    {
      "cell_type": "code",
      "source": [
        "fig = plt.figure()\n",
        "gs = GridSpec(2, 1, figure=fig)\n",
        "\n",
        "fig.set_figheight(20)\n",
        "fig.set_figwidth(30)\n",
        "fig.tight_layout(pad=15)\n",
        "\n",
        "M = 100\n",
        "xticks = ticker.MaxNLocator(M)\n",
        "\n",
        "ax1 = fig.add_subplot(gs[0,0])\n",
        "ax1.plot(scaled_features_df.index, scaled_features_df.Sales, 'b-')\n",
        "ax1.xaxis.set_major_locator(xticks)\n",
        "ax1.tick_params(labelrotation=90)\n",
        "ax1.set_xlabel('Date')\n",
        "ax1.set_ylabel('Thousands of Units')\n",
        "ax1.title.set_text('Time Series Plot of Sales')\n",
        "ax1.grid(True)\n",
        "\n",
        "ax2 = fig.add_subplot(gs[1,0])\n",
        "ax2.plot(X.index, X.Sales, 'g-')\n",
        "ax2.xaxis.set_major_locator(xticks)\n",
        "ax2.tick_params(labelrotation=90)\n",
        "ax2.set_xlabel('Date')\n",
        "ax2.set_ylabel('Scaled Units')\n",
        "ax2.title.set_text('Time Series Plot of Customers')\n",
        "ax2.grid(True)\n",
        "plt.show()"
      ],
      "metadata": {
        "colab": {
          "base_uri": "https://localhost:8080/",
          "height": 883
        },
        "id": "kysJM2Yg_wjX",
        "outputId": "af170c89-e206-4e48-8f57-f8685628ae4e"
      },
      "execution_count": null,
      "outputs": [
        {
          "output_type": "display_data",
          "data": {
            "text/plain": [
              "<Figure size 2160x1440 with 2 Axes>"
            ],
            "image/png": "[encoded data removed]"
          },
          "metadata": {
            "needs_background": "light"
          }
        }
      ]
    },
    {
      "cell_type": "code",
      "source": [
        "fig = plt.figure()\n",
        "gs = GridSpec(2, 1, figure=fig)\n",
        "\n",
        "fig.set_figheight(10)\n",
        "fig.set_figwidth(30)\n",
        "fig.tight_layout(pad=6)\n",
        "\n",
        "ax1 = fig.add_subplot(gs[0,0])\n",
        "ax1.hist(scaled_features_df.Sales, density=True, bins=60)\n",
        "ax1.title.set_text('Histogram of Sales')\n",
        "ax1.grid(True)\n",
        "\n",
        "ax2 = fig.add_subplot(gs[1,0])\n",
        "ax2.hist(X.Sales, density=True, bins=60)\n",
        "ax2.title.set_text('Histogram of the of Min Max  Sales')\n",
        "ax2.grid(True)\n",
        "plt.show()"
      ],
      "metadata": {
        "colab": {
          "base_uri": "https://localhost:8080/",
          "height": 440
        },
        "id": "gGv1C09PfXs_",
        "outputId": "d1cc203f-bbcc-4a42-bd66-9d9642a91a86"
      },
      "execution_count": null,
      "outputs": [
        {
          "output_type": "display_data",
          "data": {
            "text/plain": [
              "<Figure size 2160x720 with 2 Axes>"
            ],
            "image/png": "[encoded data removed]"
          },
          "metadata": {
            "needs_background": "light"
          }
        }
      ]
    },
    {
      "cell_type": "code",
      "source": [
        "adfResult = adfuller(scaled_features_df.Sales.values[:100000], autolag='AIC')\n",
        "print(f'ADF Statistic: {adfResult[0]}')\n",
        "print(f'p-value: {adfResult[1]}')"
      ],
      "metadata": {
        "id": "KouF01_RfXn0",
        "colab": {
          "base_uri": "https://localhost:8080/"
        },
        "outputId": "d433cbfe-848e-436a-f18d-ea427506444a"
      },
      "execution_count": 64,
      "outputs": [
        {
          "output_type": "stream",
          "name": "stdout",
          "text": [
            "ADF Statistic: -9.05093404172353\n",
            "p-value: 4.842222773138588e-15\n"
          ]
        }
      ]
    },
    {
      "cell_type": "code",
      "source": [
        "adfResult = adfuller(X.Sales.values[:100000], autolag='AIC')\n",
        "print(f'ADF Statistic: {adfResult[0]}')\n",
        "print(f'p-value: {adfResult[1]}')"
      ],
      "metadata": {
        "id": "sVx_NMITfXiS",
        "colab": {
          "base_uri": "https://localhost:8080/"
        },
        "outputId": "0419764c-3e00-4de4-feb6-138562239981"
      },
      "execution_count": 66,
      "outputs": [
        {
          "output_type": "stream",
          "name": "stdout",
          "text": [
            "ADF Statistic: -9.050934041723085\n",
            "p-value: 4.842222773151178e-15\n"
          ]
        }
      ]
    },
    {
      "cell_type": "markdown",
      "source": [
        "- since the p-value is less than the 0.05 no need for removing stationary step cause it is stationary"
      ],
      "metadata": {
        "id": "4Gk0n3twxtbN"
      }
    },
    {
      "cell_type": "code",
      "source": [
        "acfSalesScaled = acf(scaled_features_df.Sales.values, fft=True, nlags=40)\n",
        "acfSalesScaledNp = np.array(acfSalesScaled)"
      ],
      "metadata": {
        "id": "3wrlA9-HfXdr"
      },
      "execution_count": null,
      "outputs": []
    },
    {
      "cell_type": "code",
      "source": [
        "scaled_features_df.Sales.values.shape"
      ],
      "metadata": {
        "colab": {
          "base_uri": "https://localhost:8080/"
        },
        "id": "8g-EwHk-fXaR",
        "outputId": "bf4909dd-77e2-4300-ef00-be161ffb0fac"
      },
      "execution_count": null,
      "outputs": [
        {
          "output_type": "execute_result",
          "data": {
            "text/plain": [
              "(844338,)"
            ]
          },
          "metadata": {},
          "execution_count": 12
        }
      ]
    },
    {
      "cell_type": "markdown",
      "source": [
        "# Auto correlation and partial correlation"
      ],
      "metadata": {
        "id": "ZuzH0y29_V3-"
      }
    },
    {
      "cell_type": "code",
      "source": [
        "def corrPlots(array: np.array, prefix: str):\n",
        "    plt.figure(figsize=(30, 5))\n",
        "    plt.title(f\"{prefix}  Autocorrelations of Sales Min Max Scaled\")\n",
        "    plt.bar(range(len(array)), array)\n",
        "    plt.grid(True)\n",
        "    plt.show()"
      ],
      "metadata": {
        "id": "7OgBk9tHIytV"
      },
      "execution_count": null,
      "outputs": []
    },
    {
      "cell_type": "code",
      "source": [
        "corrPlots(acfSalesScaledNp, '')"
      ],
      "metadata": {
        "colab": {
          "base_uri": "https://localhost:8080/",
          "height": 249
        },
        "id": "_byDPBFrI-Qu",
        "outputId": "a5338af4-ff3d-4597-fc9c-bcaaccdc649e"
      },
      "execution_count": null,
      "outputs": [
        {
          "output_type": "display_data",
          "data": {
            "text/plain": [
              "<Figure size 2160x360 with 1 Axes>"
            ],
            "image/png": "[encoded data removed]"
          },
          "metadata": {
            "needs_background": "light"
          }
        }
      ]
    },
    {
      "cell_type": "code",
      "source": [
        "pacfSalesScaled = pacf(scaled_features_df.Sales.values, nlags=40)\n",
        "pacfSalesScaledNp = np.array(pacfSalesScaled)"
      ],
      "metadata": {
        "id": "wliPKfacI-Ld"
      },
      "execution_count": null,
      "outputs": []
    },
    {
      "cell_type": "code",
      "source": [
        "corrPlots(pacfSalesScaledNp, \"Partial\")"
      ],
      "metadata": {
        "colab": {
          "base_uri": "https://localhost:8080/",
          "height": 249
        },
        "id": "z33bVBXPI-Fg",
        "outputId": "f5a8cf5c-a641-41a7-8594-1548350f1ed1"
      },
      "execution_count": null,
      "outputs": [
        {
          "output_type": "display_data",
          "data": {
            "text/plain": [
              "<Figure size 2160x360 with 1 Axes>"
            ],
            "image/png": "[encoded data removed]"
          },
          "metadata": {
            "needs_background": "light"
          }
        }
      ]
    },
    {
      "cell_type": "markdown",
      "source": [
        "# turning the time series data into a superviesd model"
      ],
      "metadata": {
        "id": "Sv_rv0rg_dx5"
      }
    },
    {
      "cell_type": "code",
      "source": [
        "from pandas import DataFrame\n",
        "from pandas import concat\n",
        " \n",
        "def series_to_supervised(data, n_in=1, n_out=1, dropnan=True):\n",
        "\t\"\"\"\n",
        "\tFrame a time series as a supervised learning dataset.\n",
        "\tArguments:\n",
        "\t\tdata: Sequence of observations as a list or NumPy array.\n",
        "\t\tn_in: Number of lag observations as input (X).\n",
        "\t\tn_out: Number of observations as output (y).\n",
        "\t\tdropnan: Boolean whether or not to drop rows with NaN values.\n",
        "\tReturns:\n",
        "\t\tPandas DataFrame of series framed for supervised learning.\n",
        "\t\"\"\"\n",
        "\tn_vars = 1 if type(data) is list else data.shape[1]\n",
        "\tdf = DataFrame(data)\n",
        "\tcols, names = list(), list()\n",
        "\t# input sequence (t-n, ... t-1)\n",
        "\tfor i in range(n_in, 0, -1):\n",
        "\t\tcols.append(df.shift(i))\n",
        "\t\tnames += [('var%d(t-%d)' % (j+1, i)) for j in range(n_vars)]\n",
        "\t# forecast sequence (t, t+1, ... t+n)\n",
        "\tfor i in range(0, n_out):\n",
        "\t\tcols.append(df.shift(-i))\n",
        "\t\tif i == 0:\n",
        "\t\t\tnames += [('var%d(t)' % (j+1)) for j in range(n_vars)]\n",
        "\t\telse:\n",
        "\t\t\tnames += [('var%d(t+%d)' % (j+1, i)) for j in range(n_vars)]\n",
        "\t# put it all together\n",
        "\tagg = concat(cols, axis=1)\n",
        "\tagg.columns = names\n",
        "\t# drop rows with NaN values\n",
        "\tif dropnan:\n",
        "\t\tagg.dropna(inplace=True)\n",
        "\treturn agg\n",
        " \n",
        " \n"
      ],
      "metadata": {
        "id": "v-YrntE5AY4F"
      },
      "execution_count": 26,
      "outputs": []
    },
    {
      "cell_type": "code",
      "source": [
        "values = scaled_features_df.values\n",
        "data = series_to_supervised(values, 1, 1)\n",
        "print(data)"
      ],
      "metadata": {
        "id": "OpFwJSvEiKtx"
      },
      "execution_count": null,
      "outputs": []
    },
    {
      "cell_type": "code",
      "source": [
        "# split into train and test sets\n",
        "values = data.values\n",
        "n_train_days = 365 * 1015\n",
        "train = values[:n_train_days, :]\n",
        "test = values[n_train_days:, :]\n",
        "# split into input and outputs\n",
        "train_X, train_y = train[:, :-1], train[:, -1]\n",
        "test_X, test_y = test[:, :-1], test[:, -1]\n",
        "# reshape input to be 3D [samples, timesteps, features]\n",
        "train_X = train_X.reshape((train_X.shape[0], 1, train_X.shape[1]))\n",
        "test_X = test_X.reshape((test_X.shape[0], 1, test_X.shape[1]))\n",
        "print(train_X.shape, train_y.shape, test_X.shape, test_y.shape)"
      ],
      "metadata": {
        "colab": {
          "base_uri": "https://localhost:8080/"
        },
        "id": "36t6aHNCDI89",
        "outputId": "e5937b1b-c901-41e5-ada9-19b9d02fed8f"
      },
      "execution_count": 12,
      "outputs": [
        {
          "output_type": "stream",
          "name": "stdout",
          "text": [
            "(370475, 1, 55) (370475,) (473862, 1, 55) (473862,)\n"
          ]
        }
      ]
    },
    {
      "cell_type": "code",
      "source": [
        "model = Sequential()\n",
        "model.add(LSTM(100, input_shape=(train_X.shape[1], train_X.shape[2]),return_sequences=True))\n",
        "model.add(LSTM(50))\n",
        "model.add(Dense(1))\n",
        "model.compile(loss='mae', optimizer='adam')"
      ],
      "metadata": {
        "id": "Sq7XeQnVFUOi"
      },
      "execution_count": 17,
      "outputs": []
    },
    {
      "cell_type": "code",
      "source": [
        "model.summary()"
      ],
      "metadata": {
        "colab": {
          "base_uri": "https://localhost:8080/"
        },
        "id": "m5QWaOBrGwsI",
        "outputId": "de184ae1-5fc7-4c29-97ed-7df93e99433c"
      },
      "execution_count": 18,
      "outputs": [
        {
          "output_type": "stream",
          "name": "stdout",
          "text": [
            "Model: \"sequential_4\"\n",
            "_________________________________________________________________\n",
            " Layer (type)                Output Shape              Param #   \n",
            "=================================================================\n",
            " lstm_8 (LSTM)               (None, 1, 100)            62400     \n",
            "                                                                 \n",
            " lstm_9 (LSTM)               (None, 50)                30200     \n",
            "                                                                 \n",
            " dense (Dense)               (None, 1)                 51        \n",
            "                                                                 \n",
            "=================================================================\n",
            "Total params: 92,651\n",
            "Trainable params: 92,651\n",
            "Non-trainable params: 0\n",
            "_________________________________________________________________\n"
          ]
        }
      ]
    },
    {
      "cell_type": "code",
      "source": [
        "history = model.fit(train_X, train_y, epochs=50, batch_size=64, validation_data=(test_X, test_y), verbose=2, shuffle=False)"
      ],
      "metadata": {
        "colab": {
          "base_uri": "https://localhost:8080/"
        },
        "id": "ObewHq1NFW1a",
        "outputId": "0e9d5ee1-a356-44b0-e492-407d229806b2"
      },
      "execution_count": 19,
      "outputs": [
        {
          "output_type": "stream",
          "name": "stdout",
          "text": [
            "Epoch 1/50\n",
            "5789/5789 - 55s - loss: 0.4547 - val_loss: 0.5856 - 55s/epoch - 9ms/step\n",
            "Epoch 2/50\n",
            "5789/5789 - 45s - loss: 0.3063 - val_loss: 0.6239 - 45s/epoch - 8ms/step\n",
            "Epoch 3/50\n",
            "5789/5789 - 46s - loss: 0.2689 - val_loss: 0.6165 - 46s/epoch - 8ms/step\n",
            "Epoch 4/50\n",
            "5789/5789 - 49s - loss: 0.2530 - val_loss: 0.6380 - 49s/epoch - 8ms/step\n",
            "Epoch 5/50\n",
            "5789/5789 - 46s - loss: 0.2428 - val_loss: 0.6544 - 46s/epoch - 8ms/step\n",
            "Epoch 6/50\n",
            "5789/5789 - 50s - loss: 0.2346 - val_loss: 0.6347 - 50s/epoch - 9ms/step\n",
            "Epoch 7/50\n",
            "5789/5789 - 45s - loss: 0.2287 - val_loss: 0.6250 - 45s/epoch - 8ms/step\n",
            "Epoch 8/50\n",
            "5789/5789 - 42s - loss: 0.2229 - val_loss: 0.6139 - 42s/epoch - 7ms/step\n",
            "Epoch 9/50\n",
            "5789/5789 - 44s - loss: 0.2188 - val_loss: 0.5940 - 44s/epoch - 8ms/step\n",
            "Epoch 10/50\n",
            "5789/5789 - 46s - loss: 0.2151 - val_loss: 0.5907 - 46s/epoch - 8ms/step\n",
            "Epoch 11/50\n",
            "5789/5789 - 48s - loss: 0.2118 - val_loss: 0.5843 - 48s/epoch - 8ms/step\n",
            "Epoch 12/50\n",
            "5789/5789 - 43s - loss: 0.2095 - val_loss: 0.5783 - 43s/epoch - 7ms/step\n",
            "Epoch 13/50\n",
            "5789/5789 - 44s - loss: 0.2068 - val_loss: 0.5716 - 44s/epoch - 8ms/step\n",
            "Epoch 14/50\n",
            "5789/5789 - 44s - loss: 0.2051 - val_loss: 0.5841 - 44s/epoch - 8ms/step\n",
            "Epoch 15/50\n",
            "5789/5789 - 44s - loss: 0.2036 - val_loss: 0.5765 - 44s/epoch - 8ms/step\n",
            "Epoch 16/50\n",
            "5789/5789 - 43s - loss: 0.2022 - val_loss: 0.5722 - 43s/epoch - 7ms/step\n",
            "Epoch 17/50\n",
            "5789/5789 - 43s - loss: 0.2010 - val_loss: 0.5650 - 43s/epoch - 7ms/step\n",
            "Epoch 18/50\n",
            "5789/5789 - 42s - loss: 0.2002 - val_loss: 0.5636 - 42s/epoch - 7ms/step\n",
            "Epoch 19/50\n",
            "5789/5789 - 48s - loss: 0.1989 - val_loss: 0.5578 - 48s/epoch - 8ms/step\n",
            "Epoch 20/50\n",
            "5789/5789 - 41s - loss: 0.1977 - val_loss: 0.5550 - 41s/epoch - 7ms/step\n",
            "Epoch 21/50\n",
            "5789/5789 - 48s - loss: 0.1972 - val_loss: 0.5438 - 48s/epoch - 8ms/step\n",
            "Epoch 22/50\n",
            "5789/5789 - 48s - loss: 0.1963 - val_loss: 0.5431 - 48s/epoch - 8ms/step\n",
            "Epoch 23/50\n",
            "5789/5789 - 47s - loss: 0.1955 - val_loss: 0.5443 - 47s/epoch - 8ms/step\n",
            "Epoch 24/50\n",
            "5789/5789 - 47s - loss: 0.1949 - val_loss: 0.5446 - 47s/epoch - 8ms/step\n",
            "Epoch 25/50\n",
            "5789/5789 - 40s - loss: 0.1943 - val_loss: 0.5381 - 40s/epoch - 7ms/step\n",
            "Epoch 26/50\n",
            "5789/5789 - 41s - loss: 0.1937 - val_loss: 0.5364 - 41s/epoch - 7ms/step\n",
            "Epoch 27/50\n",
            "5789/5789 - 43s - loss: 0.1933 - val_loss: 0.5281 - 43s/epoch - 7ms/step\n",
            "Epoch 28/50\n",
            "5789/5789 - 41s - loss: 0.1927 - val_loss: 0.5259 - 41s/epoch - 7ms/step\n",
            "Epoch 29/50\n",
            "5789/5789 - 48s - loss: 0.1923 - val_loss: 0.5212 - 48s/epoch - 8ms/step\n",
            "Epoch 30/50\n",
            "5789/5789 - 47s - loss: 0.1920 - val_loss: 0.5188 - 47s/epoch - 8ms/step\n",
            "Epoch 31/50\n",
            "5789/5789 - 42s - loss: 0.1917 - val_loss: 0.5146 - 42s/epoch - 7ms/step\n",
            "Epoch 32/50\n",
            "5789/5789 - 41s - loss: 0.1911 - val_loss: 0.5110 - 41s/epoch - 7ms/step\n",
            "Epoch 33/50\n",
            "5789/5789 - 48s - loss: 0.1911 - val_loss: 0.5058 - 48s/epoch - 8ms/step\n",
            "Epoch 34/50\n",
            "5789/5789 - 43s - loss: 0.1905 - val_loss: 0.5029 - 43s/epoch - 7ms/step\n",
            "Epoch 35/50\n",
            "5789/5789 - 43s - loss: 0.1903 - val_loss: 0.4982 - 43s/epoch - 7ms/step\n",
            "Epoch 36/50\n",
            "5789/5789 - 42s - loss: 0.1899 - val_loss: 0.4952 - 42s/epoch - 7ms/step\n",
            "Epoch 37/50\n",
            "5789/5789 - 42s - loss: 0.1899 - val_loss: 0.4926 - 42s/epoch - 7ms/step\n",
            "Epoch 38/50\n",
            "5789/5789 - 42s - loss: 0.1892 - val_loss: 0.4905 - 42s/epoch - 7ms/step\n",
            "Epoch 39/50\n",
            "5789/5789 - 48s - loss: 0.1893 - val_loss: 0.4870 - 48s/epoch - 8ms/step\n",
            "Epoch 40/50\n",
            "5789/5789 - 48s - loss: 0.1887 - val_loss: 0.4850 - 48s/epoch - 8ms/step\n",
            "Epoch 41/50\n",
            "5789/5789 - 43s - loss: 0.1888 - val_loss: 0.4818 - 43s/epoch - 7ms/step\n",
            "Epoch 42/50\n",
            "5789/5789 - 43s - loss: 0.1883 - val_loss: 0.4803 - 43s/epoch - 7ms/step\n",
            "Epoch 43/50\n",
            "5789/5789 - 41s - loss: 0.1881 - val_loss: 0.4749 - 41s/epoch - 7ms/step\n",
            "Epoch 44/50\n",
            "5789/5789 - 41s - loss: 0.1876 - val_loss: 0.4745 - 41s/epoch - 7ms/step\n",
            "Epoch 45/50\n",
            "5789/5789 - 47s - loss: 0.1876 - val_loss: 0.4738 - 47s/epoch - 8ms/step\n",
            "Epoch 46/50\n",
            "5789/5789 - 40s - loss: 0.1872 - val_loss: 0.4736 - 40s/epoch - 7ms/step\n",
            "Epoch 47/50\n",
            "5789/5789 - 47s - loss: 0.1870 - val_loss: 0.4711 - 47s/epoch - 8ms/step\n",
            "Epoch 48/50\n",
            "5789/5789 - 47s - loss: 0.1867 - val_loss: 0.4711 - 47s/epoch - 8ms/step\n",
            "Epoch 49/50\n",
            "5789/5789 - 41s - loss: 0.1867 - val_loss: 0.4695 - 41s/epoch - 7ms/step\n",
            "Epoch 50/50\n",
            "5789/5789 - 48s - loss: 0.1865 - val_loss: 0.4718 - 48s/epoch - 8ms/step\n"
          ]
        }
      ]
    },
    {
      "cell_type": "code",
      "source": [
        "from datetime import datetime\n",
        "import pickle\n",
        "date = datetime.now()\n",
        "dt_string = str(date.strftime(\"%d-%m-%Y-%H-%M-%S\"))\n",
        "pickle.dump(model, open('{}.pkl'.format(dt_string), 'wb'))"
      ],
      "metadata": {
        "colab": {
          "base_uri": "https://localhost:8080/"
        },
        "id": "V0rkg_geXwIm",
        "outputId": "ef2cbd08-ae50-415a-a096-a23b83929a3f"
      },
      "execution_count": 22,
      "outputs": [
        {
          "output_type": "stream",
          "name": "stderr",
          "text": [
            "WARNING:absl:Found untraced functions such as lstm_cell_8_layer_call_fn, lstm_cell_8_layer_call_and_return_conditional_losses, lstm_cell_9_layer_call_fn, lstm_cell_9_layer_call_and_return_conditional_losses while saving (showing 4 of 4). These functions will not be directly callable after loading.\n"
          ]
        },
        {
          "output_type": "stream",
          "name": "stdout",
          "text": [
            "INFO:tensorflow:Assets written to: ram://f789d1ae-ecf4-4579-8e9d-e51a0c2ba090/assets\n"
          ]
        },
        {
          "output_type": "stream",
          "name": "stderr",
          "text": [
            "INFO:tensorflow:Assets written to: ram://f789d1ae-ecf4-4579-8e9d-e51a0c2ba090/assets\n",
            "WARNING:absl:<keras.layers.recurrent.LSTMCell object at 0x7fb1dc0ca3d0> has the same name 'LSTMCell' as a built-in Keras object. Consider renaming <class 'keras.layers.recurrent.LSTMCell'> to avoid naming conflicts when loading with `tf.keras.models.load_model`. If renaming is not possible, pass the object in the `custom_objects` parameter of the load function.\n",
            "WARNING:absl:<keras.layers.recurrent.LSTMCell object at 0x7fb1dc0d2590> has the same name 'LSTMCell' as a built-in Keras object. Consider renaming <class 'keras.layers.recurrent.LSTMCell'> to avoid naming conflicts when loading with `tf.keras.models.load_model`. If renaming is not possible, pass the object in the `custom_objects` parameter of the load function.\n"
          ]
        }
      ]
    },
    {
      "cell_type": "code",
      "source": [
        "from tensorflow import keras\n",
        "model = keras.models.load_model('path/to/location')"
      ],
      "metadata": {
        "id": "saCRiUIOECbO"
      },
      "execution_count": null,
      "outputs": []
    },
    {
      "cell_type": "code",
      "source": [
        "# make a prediction\n",
        "yhat = model.predict(test_X)\n",
        "test_X = test_X.reshape((test_X.shape[0], test_X.shape[2]))\n",
        "# invert scaling for forecast\n",
        "inv_yhat = concatenate((yhat, test_X[:, 1:]), axis=1)\n",
        "inv_yhat = scaler.inverse_transform(inv_yhat)\n",
        "inv_yhat = inv_yhat[:,0]\n",
        "# invert scaling for actual\n",
        "test_y = test_y.reshape((len(test_y), 1))\n",
        "inv_y = concatenate((test_y, test_X[:, 1:]), axis=1)\n",
        "inv_y = scaler.inverse_transform(inv_y)\n",
        "inv_y = inv_y[:,0]\n",
        "# calculate RMSE\n",
        "rmse = sqrt(mean_squared_error(inv_y, inv_yhat))\n",
        "print('Test RMSE: %.3f' % rmse)"
      ],
      "metadata": {
        "id": "bNy_r-CDEAwo"
      },
      "execution_count": null,
      "outputs": []
    },
    {
      "cell_type": "code",
      "source": [
        "date = datetime.now()\n",
        "dt_string = str(date.strftime(\"%d-%m-%Y-%H-%M-%S\"))\n",
        "model.save('model.{}'.format(dt_string))"
      ],
      "metadata": {
        "colab": {
          "base_uri": "https://localhost:8080/"
        },
        "id": "iV3zvuBlZMXw",
        "outputId": "8bf39f09-6038-491d-b99a-185ac78907e6"
      },
      "execution_count": 23,
      "outputs": [
        {
          "output_type": "stream",
          "name": "stderr",
          "text": [
            "WARNING:absl:Found untraced functions such as lstm_cell_8_layer_call_fn, lstm_cell_8_layer_call_and_return_conditional_losses, lstm_cell_9_layer_call_fn, lstm_cell_9_layer_call_and_return_conditional_losses while saving (showing 4 of 4). These functions will not be directly callable after loading.\n"
          ]
        },
        {
          "output_type": "stream",
          "name": "stdout",
          "text": [
            "INFO:tensorflow:Assets written to: model.27-05-2022-12-03-25/assets\n"
          ]
        },
        {
          "output_type": "stream",
          "name": "stderr",
          "text": [
            "INFO:tensorflow:Assets written to: model.27-05-2022-12-03-25/assets\n",
            "WARNING:absl:<keras.layers.recurrent.LSTMCell object at 0x7fb1dc0ca3d0> has the same name 'LSTMCell' as a built-in Keras object. Consider renaming <class 'keras.layers.recurrent.LSTMCell'> to avoid naming conflicts when loading with `tf.keras.models.load_model`. If renaming is not possible, pass the object in the `custom_objects` parameter of the load function.\n",
            "WARNING:absl:<keras.layers.recurrent.LSTMCell object at 0x7fb1dc0d2590> has the same name 'LSTMCell' as a built-in Keras object. Consider renaming <class 'keras.layers.recurrent.LSTMCell'> to avoid naming conflicts when loading with `tf.keras.models.load_model`. If renaming is not possible, pass the object in the `custom_objects` parameter of the load function.\n"
          ]
        }
      ]
    },
    {
      "cell_type": "code",
      "source": [
        "import matplotlib.pyplot as plt\n",
        "plt.plot(history.history['loss'], label='train')\n",
        "plt.plot(history.history['val_loss'], label='test')\n",
        "plt.legend()\n",
        "plt.show()"
      ],
      "metadata": {
        "colab": {
          "base_uri": "https://localhost:8080/",
          "height": 265
        },
        "id": "61IcSrapFfGj",
        "outputId": "4cbbf1b9-c946-4294-c05e-db7cfbff9f49"
      },
      "execution_count": 27,
      "outputs": [
        {
          "output_type": "display_data",
          "data": {
            "text/plain": [
              "<Figure size 432x288 with 1 Axes>"
            ],
            "image/png": "[encoded data removed]"
          },
          "metadata": {
            "needs_background": "light"
          }
        }
      ]
    },
    {
      "cell_type": "markdown",
      "source": [
        "## the model is we can see is overfitting if we could let the epochs rum for a little more we might get better result cause the validation results were decreasing on each step"
      ],
      "metadata": {
        "id": "QmdoIHC_bN1V"
      }
    },
    {
      "cell_type": "markdown",
      "source": [
        "# Time-Series Analysis per Store Type"
      ],
      "metadata": {
        "id": "Gm5eKVEFkXeQ"
      }
    },
    {
      "cell_type": "markdown",
      "source": [
        "- to visulaize and for faster training"
      ],
      "metadata": {
        "id": "_0KzRLCnvD1H"
      }
    },
    {
      "cell_type": "code",
      "source": [
        "train_store['date'] = pd.to_datetime(train_store[['Day', 'Month', 'Year']], format='%Y%m%d')\n",
        "train_store['date'] = pd.to_datetime(train_store.date.dt.strftime('%Y-%m-%d'))\n",
        "# train_store['date'] = pd.DatetimeIndex(train_store['date'])\n",
        "# train_store['date'].to_frame(index = True)\n",
        "df = train_store.set_index(['date'])\n",
        "df.drop('Unnamed: 0', axis = 1, inplace=True)\n",
        "df.isna().sum()"
      ],
      "metadata": {
        "colab": {
          "base_uri": "https://localhost:8080/"
        },
        "id": "mg_8ZAZjk0Fi",
        "outputId": "8dc0225c-d33d-43bf-e3bb-8dbbfe20f40d"
      },
      "execution_count": 5,
      "outputs": [
        {
          "output_type": "execute_result",
          "data": {
            "text/plain": [
              "Store                        0\n",
              "DayOfWeek                    0\n",
              "Sales                        0\n",
              "Customers                    0\n",
              "Open                         0\n",
              "Promo                        0\n",
              "StateHoliday                 0\n",
              "SchoolHoliday                0\n",
              "Year                         0\n",
              "Month                        0\n",
              "Day                          0\n",
              "WeekOfYear                   0\n",
              "SalePerCustomer              0\n",
              "StoreType                    0\n",
              "Assortment                   0\n",
              "CompetitionDistance          0\n",
              "CompetitionOpenSinceMonth    0\n",
              "CompetitionOpenSinceYear     0\n",
              "Promo2                       0\n",
              "Promo2SinceWeek              0\n",
              "Promo2SinceYear              0\n",
              "PromoInterval                0\n",
              "dtype: int64"
            ]
          },
          "metadata": {},
          "execution_count": 5
        }
      ]
    },
    {
      "cell_type": "code",
      "source": [
        "# preparation: input should be float type\n",
        "df['Sales'] = df['Sales'] * 1.0\n",
        "\n",
        "# store types choosen at random\n",
        "sales_a = df[df.Store == 2]['Sales']\n",
        "sales_b = df[df.Store == 85]['Sales'].sort_index(ascending = True) # solve the reverse order\n",
        "sales_c = df[df.Store == 1]['Sales']\n",
        "sales_d = df[df.Store == 13]['Sales']\n",
        "\n",
        "f, (ax1, ax2, ax3, ax4) = plt.subplots(4, figsize = (12, 13))\n",
        "\n",
        "# store types\n",
        "sales_a.resample('W').sum().plot(color = 'blue', ax = ax1)\n",
        "sales_b.resample('W').sum().plot(color = 'blue', ax = ax2)\n",
        "sales_c.resample('W').sum().plot(color = 'blue', ax = ax3)\n",
        "sales_d.resample('W').sum().plot(color = 'blue', ax = ax4)"
      ],
      "metadata": {
        "colab": {
          "base_uri": "https://localhost:8080/",
          "height": 797
        },
        "id": "1yJFrARslqGW",
        "outputId": "f45411fd-1827-44bf-944f-a619070ced00"
      },
      "execution_count": 6,
      "outputs": [
        {
          "output_type": "execute_result",
          "data": {
            "text/plain": [
              "<matplotlib.axes._subplots.AxesSubplot at 0x7f63789cc090>"
            ]
          },
          "metadata": {},
          "execution_count": 6
        },
        {
          "output_type": "display_data",
          "data": {
            "text/plain": [
              "<Figure size 864x936 with 4 Axes>"
            ],
            "image/png": "[encoded data removed]"
          },
          "metadata": {
            "needs_background": "light"
          }
        }
      ]
    },
    {
      "cell_type": "markdown",
      "source": [
        "- it shows there is a seasonal trend on christmas"
      ],
      "metadata": {
        "id": "C5SKCx43s5ln"
      }
    },
    {
      "cell_type": "markdown",
      "source": [
        "# seasonal Trend"
      ],
      "metadata": {
        "id": "QawfjbJRuX4q"
      }
    },
    {
      "cell_type": "code",
      "source": [
        "from statsmodels.tsa.seasonal import seasonal_decompose\n",
        "f, (ax1, ax2, ax3, ax4) = plt.subplots(4, figsize = (12, 13))\n",
        "\n",
        "# monthly\n",
        "decomposition_a = seasonal_decompose(sales_a, model = 'additive', freq = 365)\n",
        "decomposition_a.trend.plot(color = 'blue', ax = ax1)\n",
        "\n",
        "decomposition_b = seasonal_decompose(sales_b, model = 'additive', freq = 365)\n",
        "decomposition_b.trend.plot(color = 'blue', ax = ax2)\n",
        "\n",
        "decomposition_c = seasonal_decompose(sales_c, model = 'additive', freq = 365)\n",
        "decomposition_c.trend.plot(color = 'blue', ax = ax3)\n",
        "\n",
        "decomposition_d = seasonal_decompose(sales_d, model = 'additive', freq = 365)\n",
        "decomposition_d.trend.plot(color = 'blue', ax = ax4)"
      ],
      "metadata": {
        "colab": {
          "base_uri": "https://localhost:8080/",
          "height": 737
        },
        "id": "qNJpzj8FuM_a",
        "outputId": "bdf6dfba-962a-4ae6-835c-6413dac2d6c6"
      },
      "execution_count": 54,
      "outputs": [
        {
          "output_type": "execute_result",
          "data": {
            "text/plain": [
              "<matplotlib.axes._subplots.AxesSubplot at 0x7fb1bd543850>"
            ]
          },
          "metadata": {},
          "execution_count": 54
        },
        {
          "output_type": "display_data",
          "data": {
            "text/plain": [
              "<Figure size 864x936 with 4 Axes>"
            ],
            "image/png": "[encoded data removed]"
          },
          "metadata": {
            "needs_background": "light"
          }
        }
      ]
    },
    {
      "cell_type": "markdown",
      "source": [
        "- for all store type there is increase in sales except for store type c"
      ],
      "metadata": {
        "id": "QdXSlfCWu6NC"
      }
    },
    {
      "cell_type": "markdown",
      "source": [
        "# Autocorrelaion and Partial Autocorrelation"
      ],
      "metadata": {
        "id": "sGgZv3CNtfYo"
      }
    },
    {
      "cell_type": "code",
      "source": [
        "from statsmodels.graphics.tsaplots import plot_acf, plot_pacf\n",
        "\n",
        "# figure for subplots\n",
        "plt.figure(figsize = (12, 8))\n",
        "\n",
        "# acf and pacf for A\n",
        "plt.subplot(421); plot_acf(sales_a, lags = 50, ax = plt.gca(), color = 'blue')\n",
        "plt.subplot(422); plot_pacf(sales_a, lags = 50, ax = plt.gca(), color = 'blue')\n",
        "\n",
        "# acf and pacf for B\n",
        "plt.subplot(423); plot_acf(sales_b, lags = 50, ax = plt.gca(), color = 'blue')\n",
        "plt.subplot(424); plot_pacf(sales_b, lags = 50, ax = plt.gca(), color = 'blue')\n",
        "\n",
        "# acf and pacf for C\n",
        "plt.subplot(425); plot_acf(sales_c, lags = 50, ax = plt.gca(), color = 'blue')\n",
        "plt.subplot(426); plot_pacf(sales_c, lags = 50, ax = plt.gca(), color = 'blue')\n",
        "\n",
        "# acf and pacf for D\n",
        "plt.subplot(427); plot_acf(sales_d, lags = 50, ax = plt.gca(), color = 'blue')\n",
        "plt.subplot(428); plot_pacf(sales_d, lags = 50, ax = plt.gca(), color = 'blue')\n",
        "\n",
        "plt.show()"
      ],
      "metadata": {
        "colab": {
          "base_uri": "https://localhost:8080/",
          "height": 499
        },
        "id": "Ny2fbbiZs-bL",
        "outputId": "c106d248-1548-4316-f06f-35248b5a5ef0"
      },
      "execution_count": 55,
      "outputs": [
        {
          "output_type": "display_data",
          "data": {
            "text/plain": [
              "<Figure size 864x576 with 8 Axes>"
            ],
            "image/png": "[encoded data removed]"
          },
          "metadata": {
            "needs_background": "light"
          }
        }
      ]
    },
    {
      "cell_type": "code",
      "source": [
        "# df = df.query(df.Store == 2 or df.Store == 13 or df.store == 85 or df.store == 13)\n",
        "rows = [2,13,85,13]\n",
        "df = df[df[\"Store\"].isin(rows)]"
      ],
      "metadata": {
        "id": "lX-LHwq01GRQ"
      },
      "execution_count": 19,
      "outputs": []
    },
    {
      "cell_type": "code",
      "source": [
        "X, col = pre_processing(df)\n",
        "values = X.values\n",
        "scaler = MinMaxScaler(feature_range=(-1, 1))\n",
        "scaled = scaler.fit_transform(values)"
      ],
      "metadata": {
        "id": "0Js3QGnpkwtd"
      },
      "execution_count": 20,
      "outputs": []
    },
    {
      "cell_type": "markdown",
      "source": [
        "- trying to predict 6 weeks ahead "
      ],
      "metadata": {
        "id": "poh6YyoEAaaa"
      }
    },
    {
      "cell_type": "code",
      "source": [
        "n_days = 7*6\n",
        "n_features = 1\n",
        "# values = scaled.values\n",
        "# frame as supervised learning\n",
        "reframed = series_to_supervised(scaled, n_days, 1)\n",
        "print(reframed.shape)"
      ],
      "metadata": {
        "colab": {
          "base_uri": "https://localhost:8080/"
        },
        "id": "jckjcpQ3kGgK",
        "outputId": "9e390c3c-ebfd-4ed4-e4a6-8b71e9516ca2"
      },
      "execution_count": 27,
      "outputs": [
        {
          "output_type": "stream",
          "name": "stdout",
          "text": [
            "(2305, 989)\n"
          ]
        }
      ]
    },
    {
      "cell_type": "code",
      "source": [
        "reframed.drop(reframed.columns[-23:-1], axis=1, inplace=True)"
      ],
      "metadata": {
        "id": "7G3Q49SP6YJ_"
      },
      "execution_count": 38,
      "outputs": []
    },
    {
      "cell_type": "code",
      "source": [
        "reframed.head()"
      ],
      "metadata": {
        "colab": {
          "base_uri": "https://localhost:8080/",
          "height": 317
        },
        "id": "EOlzPqyv4Tqm",
        "outputId": "c70c594e-c666-4d12-ecf9-58cb9d2fc7bd"
      },
      "execution_count": 39,
      "outputs": [
        {
          "output_type": "execute_result",
          "data": {
            "text/plain": [
              "    var1(t-42)  var2(t-42)  var3(t-42)  var4(t-42)  var5(t-42)  var6(t-42)  \\\n",
              "42    -1.00000    0.333333        -1.0         1.0        -1.0         1.0   \n",
              "43    -0.73494    0.333333        -1.0         1.0        -1.0        -1.0   \n",
              "44     1.00000    0.333333        -1.0         1.0        -1.0         1.0   \n",
              "45    -1.00000    0.000000        -1.0         1.0        -1.0         1.0   \n",
              "46    -0.73494    0.000000        -1.0         1.0        -1.0        -1.0   \n",
              "\n",
              "    var7(t-42)  var8(t-42)  var9(t-42)  var10(t-42)  ...  var15(t-1)  \\\n",
              "42         1.0    0.090909    1.000000     0.176471  ...   -0.422222   \n",
              "43         1.0    0.090909    1.000000     0.176471  ...    1.000000   \n",
              "44         1.0    0.090909    1.000000     0.176471  ...   -1.000000   \n",
              "45         1.0    0.090909    0.933333     0.176471  ...   -0.422222   \n",
              "46         1.0    0.090909    0.933333     0.176471  ...    1.000000   \n",
              "\n",
              "    var16(t-1)  var17(t-1)  var18(t-1)  var19(t-1)  var20(t-1)  var21(t-1)  \\\n",
              "42    1.000000         1.0        -1.0        -1.0        -1.0        -1.0   \n",
              "43    0.999005        -1.0        -1.0         1.0        -1.0         1.0   \n",
              "44   -1.000000        -1.0         1.0        -1.0         1.0        -1.0   \n",
              "45    1.000000         1.0        -1.0        -1.0        -1.0        -1.0   \n",
              "46    0.999005        -1.0        -1.0         1.0        -1.0         1.0   \n",
              "\n",
              "    var22(t-1)  var23(t-1)  var23(t)  \n",
              "42         1.0   -0.533229 -0.405658  \n",
              "43        -1.0   -0.405658 -0.247642  \n",
              "44        -1.0   -0.247642 -0.333630  \n",
              "45         1.0   -0.333630  0.249722  \n",
              "46        -1.0    0.249722 -0.174723  \n",
              "\n",
              "[5 rows x 967 columns]"
            ],
            "text/html": [
              "\n",
              "  <div id=\"df-a39ff9ea-bf06-42ca-aad1-163e7b85ee86\">\n",
              "    <div class=\"colab-df-container\">\n",
              "      <div>\n",
              "<style scoped>\n",
              "    .dataframe tbody tr th:only-of-type {\n",
              "        vertical-align: middle;\n",
              "    }\n",
              "\n",
              "    .dataframe tbody tr th {\n",
              "        vertical-align: top;\n",
              "    }\n",
              "\n",
              "    .dataframe thead th {\n",
              "        text-align: right;\n",
              "    }\n",
              "</style>\n",
              "<table border=\"1\" class=\"dataframe\">\n",
              "  <thead>\n",
              "    <tr style=\"text-align: right;\">\n",
              "      <th></th>\n",
              "      <th>var1(t-42)</th>\n",
              "      <th>var2(t-42)</th>\n",
              "      <th>var3(t-42)</th>\n",
              "      <th>var4(t-42)</th>\n",
              "      <th>var5(t-42)</th>\n",
              "      <th>var6(t-42)</th>\n",
              "      <th>var7(t-42)</th>\n",
              "      <th>var8(t-42)</th>\n",
              "      <th>var9(t-42)</th>\n",
              "      <th>var10(t-42)</th>\n",
              "      <th>...</th>\n",
              "      <th>var15(t-1)</th>\n",
              "      <th>var16(t-1)</th>\n",
              "      <th>var17(t-1)</th>\n",
              "      <th>var18(t-1)</th>\n",
              "      <th>var19(t-1)</th>\n",
              "      <th>var20(t-1)</th>\n",
              "      <th>var21(t-1)</th>\n",
              "      <th>var22(t-1)</th>\n",
              "      <th>var23(t-1)</th>\n",
              "      <th>var23(t)</th>\n",
              "    </tr>\n",
              "  </thead>\n",
              "  <tbody>\n",
              "    <tr>\n",
              "      <th>42</th>\n",
              "      <td>-1.00000</td>\n",
              "      <td>0.333333</td>\n",
              "      <td>-1.0</td>\n",
              "      <td>1.0</td>\n",
              "      <td>-1.0</td>\n",
              "      <td>1.0</td>\n",
              "      <td>1.0</td>\n",
              "      <td>0.090909</td>\n",
              "      <td>1.000000</td>\n",
              "      <td>0.176471</td>\n",
              "      <td>...</td>\n",
              "      <td>-0.422222</td>\n",
              "      <td>1.000000</td>\n",
              "      <td>1.0</td>\n",
              "      <td>-1.0</td>\n",
              "      <td>-1.0</td>\n",
              "      <td>-1.0</td>\n",
              "      <td>-1.0</td>\n",
              "      <td>1.0</td>\n",
              "      <td>-0.533229</td>\n",
              "      <td>-0.405658</td>\n",
              "    </tr>\n",
              "    <tr>\n",
              "      <th>43</th>\n",
              "      <td>-0.73494</td>\n",
              "      <td>0.333333</td>\n",
              "      <td>-1.0</td>\n",
              "      <td>1.0</td>\n",
              "      <td>-1.0</td>\n",
              "      <td>-1.0</td>\n",
              "      <td>1.0</td>\n",
              "      <td>0.090909</td>\n",
              "      <td>1.000000</td>\n",
              "      <td>0.176471</td>\n",
              "      <td>...</td>\n",
              "      <td>1.000000</td>\n",
              "      <td>0.999005</td>\n",
              "      <td>-1.0</td>\n",
              "      <td>-1.0</td>\n",
              "      <td>1.0</td>\n",
              "      <td>-1.0</td>\n",
              "      <td>1.0</td>\n",
              "      <td>-1.0</td>\n",
              "      <td>-0.405658</td>\n",
              "      <td>-0.247642</td>\n",
              "    </tr>\n",
              "    <tr>\n",
              "      <th>44</th>\n",
              "      <td>1.00000</td>\n",
              "      <td>0.333333</td>\n",
              "      <td>-1.0</td>\n",
              "      <td>1.0</td>\n",
              "      <td>-1.0</td>\n",
              "      <td>1.0</td>\n",
              "      <td>1.0</td>\n",
              "      <td>0.090909</td>\n",
              "      <td>1.000000</td>\n",
              "      <td>0.176471</td>\n",
              "      <td>...</td>\n",
              "      <td>-1.000000</td>\n",
              "      <td>-1.000000</td>\n",
              "      <td>-1.0</td>\n",
              "      <td>1.0</td>\n",
              "      <td>-1.0</td>\n",
              "      <td>1.0</td>\n",
              "      <td>-1.0</td>\n",
              "      <td>-1.0</td>\n",
              "      <td>-0.247642</td>\n",
              "      <td>-0.333630</td>\n",
              "    </tr>\n",
              "    <tr>\n",
              "      <th>45</th>\n",
              "      <td>-1.00000</td>\n",
              "      <td>0.000000</td>\n",
              "      <td>-1.0</td>\n",
              "      <td>1.0</td>\n",
              "      <td>-1.0</td>\n",
              "      <td>1.0</td>\n",
              "      <td>1.0</td>\n",
              "      <td>0.090909</td>\n",
              "      <td>0.933333</td>\n",
              "      <td>0.176471</td>\n",
              "      <td>...</td>\n",
              "      <td>-0.422222</td>\n",
              "      <td>1.000000</td>\n",
              "      <td>1.0</td>\n",
              "      <td>-1.0</td>\n",
              "      <td>-1.0</td>\n",
              "      <td>-1.0</td>\n",
              "      <td>-1.0</td>\n",
              "      <td>1.0</td>\n",
              "      <td>-0.333630</td>\n",
              "      <td>0.249722</td>\n",
              "    </tr>\n",
              "    <tr>\n",
              "      <th>46</th>\n",
              "      <td>-0.73494</td>\n",
              "      <td>0.000000</td>\n",
              "      <td>-1.0</td>\n",
              "      <td>1.0</td>\n",
              "      <td>-1.0</td>\n",
              "      <td>-1.0</td>\n",
              "      <td>1.0</td>\n",
              "      <td>0.090909</td>\n",
              "      <td>0.933333</td>\n",
              "      <td>0.176471</td>\n",
              "      <td>...</td>\n",
              "      <td>1.000000</td>\n",
              "      <td>0.999005</td>\n",
              "      <td>-1.0</td>\n",
              "      <td>-1.0</td>\n",
              "      <td>1.0</td>\n",
              "      <td>-1.0</td>\n",
              "      <td>1.0</td>\n",
              "      <td>-1.0</td>\n",
              "      <td>0.249722</td>\n",
              "      <td>-0.174723</td>\n",
              "    </tr>\n",
              "  </tbody>\n",
              "</table>\n",
              "<p>5 rows × 967 columns</p>\n",
              "</div>\n",
              "      <button class=\"colab-df-convert\" onclick=\"convertToInteractive('df-a39ff9ea-bf06-42ca-aad1-163e7b85ee86')\"\n",
              "              title=\"Convert this dataframe to an interactive table.\"\n",
              "              style=\"display:none;\">\n",
              "        \n",
              "  <svg xmlns=\"http://www.w3.org/2000/svg\" height=\"24px\"viewBox=\"0 0 24 24\"\n",
              "       width=\"24px\">\n",
              "    <path d=\"M0 0h24v24H0V0z\" fill=\"none\"/>\n",
              "    <path d=\"M18.56 5.44l.94 2.06.94-2.06 2.06-.94-2.06-.94-.94-2.06-.94 2.06-2.06.94zm-11 1L8.5 8.5l.94-2.06 2.06-.94-2.06-.94L8.5 2.5l-.94 2.06-2.06.94zm10 10l.94 2.06.94-2.06 2.06-.94-2.06-.94-.94-2.06-.94 2.06-2.06.94z\"/><path d=\"M17.41 7.96l-1.37-1.37c-.4-.4-.92-.59-1.43-.59-.52 0-1.04.2-1.43.59L10.3 9.45l-7.72 7.72c-.78.78-.78 2.05 0 2.83L4 21.41c.39.39.9.59 1.41.59.51 0 1.02-.2 1.41-.59l7.78-7.78 2.81-2.81c.8-.78.8-2.07 0-2.86zM5.41 20L4 18.59l7.72-7.72 1.47 1.35L5.41 20z\"/>\n",
              "  </svg>\n",
              "      </button>\n",
              "      \n",
              "  <style>\n",
              "    .colab-df-container {\n",
              "      display:flex;\n",
              "      flex-wrap:wrap;\n",
              "      gap: 12px;\n",
              "    }\n",
              "\n",
              "    .colab-df-convert {\n",
              "      background-color: #E8F0FE;\n",
              "      border: none;\n",
              "      border-radius: 50%;\n",
              "      cursor: pointer;\n",
              "      display: none;\n",
              "      fill: #1967D2;\n",
              "      height: 32px;\n",
              "      padding: 0 0 0 0;\n",
              "      width: 32px;\n",
              "    }\n",
              "\n",
              "    .colab-df-convert:hover {\n",
              "      background-color: #E2EBFA;\n",
              "      box-shadow: 0px 1px 2px rgba(60, 64, 67, 0.3), 0px 1px 3px 1px rgba(60, 64, 67, 0.15);\n",
              "      fill: #174EA6;\n",
              "    }\n",
              "\n",
              "    [theme=dark] .colab-df-convert {\n",
              "      background-color: #3B4455;\n",
              "      fill: #D2E3FC;\n",
              "    }\n",
              "\n",
              "    [theme=dark] .colab-df-convert:hover {\n",
              "      background-color: #434B5C;\n",
              "      box-shadow: 0px 1px 3px 1px rgba(0, 0, 0, 0.15);\n",
              "      filter: drop-shadow(0px 1px 2px rgba(0, 0, 0, 0.3));\n",
              "      fill: #FFFFFF;\n",
              "    }\n",
              "  </style>\n",
              "\n",
              "      <script>\n",
              "        const buttonEl =\n",
              "          document.querySelector('#df-a39ff9ea-bf06-42ca-aad1-163e7b85ee86 button.colab-df-convert');\n",
              "        buttonEl.style.display =\n",
              "          google.colab.kernel.accessAllowed ? 'block' : 'none';\n",
              "\n",
              "        async function convertToInteractive(key) {\n",
              "          const element = document.querySelector('#df-a39ff9ea-bf06-42ca-aad1-163e7b85ee86');\n",
              "          const dataTable =\n",
              "            await google.colab.kernel.invokeFunction('convertToInteractive',\n",
              "                                                     [key], {});\n",
              "          if (!dataTable) return;\n",
              "\n",
              "          const docLinkHtml = 'Like what you see? Visit the ' +\n",
              "            '<a target=\"_blank\" href=https://colab.research.google.com/notebooks/data_table.ipynb>data table notebook</a>'\n",
              "            + ' to learn more about interactive tables.';\n",
              "          element.innerHTML = '';\n",
              "          dataTable['output_type'] = 'display_data';\n",
              "          await google.colab.output.renderOutput(dataTable, element);\n",
              "          const docLink = document.createElement('div');\n",
              "          docLink.innerHTML = docLinkHtml;\n",
              "          element.appendChild(docLink);\n",
              "        }\n",
              "      </script>\n",
              "    </div>\n",
              "  </div>\n",
              "  "
            ]
          },
          "metadata": {},
          "execution_count": 39
        }
      ]
    },
    {
      "cell_type": "code",
      "source": [
        "values = reframed.values\n",
        "n_train_days = 365 * 5\n",
        "train = values[:n_train_days, :]\n",
        "test = values[n_train_days:, :]\n",
        "# split into input and outputs\n",
        "# n_obs = n_days * n_features\n",
        "train_X, train_y = train[:, :-1], train[:, -1]\n",
        "test_X, test_y = test[:, :-1], test[:, -1]\n",
        "print(train_X.shape, len(train_X), train_y.shape)\n",
        "# reshape input to be 3D [samples, timesteps, features]\n",
        "train_X = train_X.reshape((train_X.shape[0], n_days, 23))\n",
        "test_X = test_X.reshape((test_X.shape[0], n_days, 23))\n",
        "print(train_X.shape, train_y.shape, test_X.shape, test_y.shape)"
      ],
      "metadata": {
        "colab": {
          "base_uri": "https://localhost:8080/"
        },
        "id": "K4mHKwRCkjFK",
        "outputId": "f11ecaa9-f9df-410f-c04d-e35119ec3c85"
      },
      "execution_count": 54,
      "outputs": [
        {
          "output_type": "stream",
          "name": "stdout",
          "text": [
            "(1825, 966) 1825 (1825,)\n",
            "(1825, 42, 23) (1825,) (480, 42, 23) (480,)\n"
          ]
        }
      ]
    },
    {
      "cell_type": "code",
      "source": [
        "# design network\n",
        "model = Sequential()\n",
        "model.add(LSTM(50, input_shape=(train_X.shape[1], train_X.shape[2]),return_sequences=True))\n",
        "model.add(LSTM(100))\n",
        "model.add(Dense(1))\n",
        "model.compile(loss='mae', optimizer='adam')"
      ],
      "metadata": {
        "id": "CM8RAOuZ-Hj6"
      },
      "execution_count": 45,
      "outputs": []
    },
    {
      "cell_type": "code",
      "source": [
        "model.summary()"
      ],
      "metadata": {
        "colab": {
          "base_uri": "https://localhost:8080/"
        },
        "id": "Ex5oz895-Ojd",
        "outputId": "acdb8c6a-7da2-434a-8a2d-972eb4c3b2bf"
      },
      "execution_count": 46,
      "outputs": [
        {
          "output_type": "stream",
          "name": "stdout",
          "text": [
            "Model: \"sequential\"\n",
            "_________________________________________________________________\n",
            " Layer (type)                Output Shape              Param #   \n",
            "=================================================================\n",
            " lstm (LSTM)                 (None, 42, 50)            14800     \n",
            "                                                                 \n",
            " lstm_1 (LSTM)               (None, 100)               60400     \n",
            "                                                                 \n",
            " dense (Dense)               (None, 1)                 101       \n",
            "                                                                 \n",
            "=================================================================\n",
            "Total params: 75,301\n",
            "Trainable params: 75,301\n",
            "Non-trainable params: 0\n",
            "_________________________________________________________________\n"
          ]
        }
      ]
    },
    {
      "cell_type": "code",
      "source": [
        "history = model.fit(train_X, train_y, epochs=25, batch_size=72, validation_data=(test_X, test_y), verbose=2, shuffle=False)"
      ],
      "metadata": {
        "colab": {
          "base_uri": "https://localhost:8080/"
        },
        "id": "FcPRt-3f-yLj",
        "outputId": "0b7ae6af-5516-4008-f3d4-54d8177878ba"
      },
      "execution_count": 55,
      "outputs": [
        {
          "output_type": "stream",
          "name": "stdout",
          "text": [
            "Epoch 1/25\n",
            "26/26 - 4s - loss: 0.0776 - val_loss: 0.1211 - 4s/epoch - 143ms/step\n",
            "Epoch 2/25\n",
            "26/26 - 2s - loss: 0.0738 - val_loss: 0.1055 - 2s/epoch - 94ms/step\n",
            "Epoch 3/25\n",
            "26/26 - 2s - loss: 0.0795 - val_loss: 0.1024 - 2s/epoch - 91ms/step\n",
            "Epoch 4/25\n",
            "26/26 - 2s - loss: 0.0881 - val_loss: 0.0860 - 2s/epoch - 91ms/step\n",
            "Epoch 5/25\n",
            "26/26 - 2s - loss: 0.0948 - val_loss: 0.0978 - 2s/epoch - 92ms/step\n",
            "Epoch 6/25\n",
            "26/26 - 2s - loss: 0.0942 - val_loss: 0.0904 - 2s/epoch - 92ms/step\n",
            "Epoch 7/25\n",
            "26/26 - 2s - loss: 0.0752 - val_loss: 0.0839 - 2s/epoch - 93ms/step\n",
            "Epoch 8/25\n",
            "26/26 - 2s - loss: 0.0755 - val_loss: 0.0907 - 2s/epoch - 94ms/step\n",
            "Epoch 9/25\n",
            "26/26 - 2s - loss: 0.0714 - val_loss: 0.0909 - 2s/epoch - 92ms/step\n",
            "Epoch 10/25\n",
            "26/26 - 2s - loss: 0.0726 - val_loss: 0.0974 - 2s/epoch - 93ms/step\n",
            "Epoch 11/25\n",
            "26/26 - 2s - loss: 0.0732 - val_loss: 0.1055 - 2s/epoch - 93ms/step\n",
            "Epoch 12/25\n",
            "26/26 - 2s - loss: 0.0725 - val_loss: 0.0869 - 2s/epoch - 92ms/step\n",
            "Epoch 13/25\n",
            "26/26 - 2s - loss: 0.0767 - val_loss: 0.0992 - 2s/epoch - 93ms/step\n",
            "Epoch 14/25\n",
            "26/26 - 2s - loss: 0.0730 - val_loss: 0.0928 - 2s/epoch - 93ms/step\n",
            "Epoch 15/25\n",
            "26/26 - 2s - loss: 0.0708 - val_loss: 0.0902 - 2s/epoch - 93ms/step\n",
            "Epoch 16/25\n",
            "26/26 - 2s - loss: 0.0730 - val_loss: 0.0951 - 2s/epoch - 93ms/step\n",
            "Epoch 17/25\n",
            "26/26 - 2s - loss: 0.0677 - val_loss: 0.0894 - 2s/epoch - 93ms/step\n",
            "Epoch 18/25\n",
            "26/26 - 2s - loss: 0.0669 - val_loss: 0.0922 - 2s/epoch - 93ms/step\n",
            "Epoch 19/25\n",
            "26/26 - 2s - loss: 0.0669 - val_loss: 0.0938 - 2s/epoch - 92ms/step\n",
            "Epoch 20/25\n",
            "26/26 - 2s - loss: 0.0683 - val_loss: 0.0976 - 2s/epoch - 95ms/step\n",
            "Epoch 21/25\n",
            "26/26 - 2s - loss: 0.0659 - val_loss: 0.0992 - 2s/epoch - 94ms/step\n",
            "Epoch 22/25\n",
            "26/26 - 2s - loss: 0.0706 - val_loss: 0.0932 - 2s/epoch - 93ms/step\n",
            "Epoch 23/25\n",
            "26/26 - 2s - loss: 0.0703 - val_loss: 0.1104 - 2s/epoch - 93ms/step\n",
            "Epoch 24/25\n",
            "26/26 - 2s - loss: 0.0702 - val_loss: 0.0932 - 2s/epoch - 92ms/step\n",
            "Epoch 25/25\n",
            "26/26 - 2s - loss: 0.0717 - val_loss: 0.0974 - 2s/epoch - 94ms/step\n"
          ]
        }
      ]
    },
    {
      "cell_type": "code",
      "source": [
        ""
      ],
      "metadata": {
        "id": "Ukf6PXk6_57L"
      },
      "execution_count": null,
      "outputs": []
    },
    {
      "cell_type": "code",
      "source": [
        "from datetime import datetime\n",
        "import pickle\n",
        "date = datetime.now()\n",
        "dt_string = str(date.strftime(\"%d-%m-%Y-%H-%M-%S\"))\n",
        "pickle.dump(model, open('{}.pkl'.format(dt_string), 'wb'))\n",
        "model.save('{}-keras'.format(dt_string))"
      ],
      "metadata": {
        "colab": {
          "base_uri": "https://localhost:8080/"
        },
        "id": "bIMcaJew_5qs",
        "outputId": "40357c3a-2e84-43fa-854b-9468a9caa83b"
      },
      "execution_count": 48,
      "outputs": [
        {
          "output_type": "stream",
          "name": "stderr",
          "text": [
            "WARNING:absl:Found untraced functions such as lstm_cell_layer_call_fn, lstm_cell_layer_call_and_return_conditional_losses, lstm_cell_1_layer_call_fn, lstm_cell_1_layer_call_and_return_conditional_losses while saving (showing 4 of 4). These functions will not be directly callable after loading.\n"
          ]
        },
        {
          "output_type": "stream",
          "name": "stdout",
          "text": [
            "INFO:tensorflow:Assets written to: ram://e8a284f0-ede1-4a95-ac55-97fbe6196c1d/assets\n"
          ]
        },
        {
          "output_type": "stream",
          "name": "stderr",
          "text": [
            "INFO:tensorflow:Assets written to: ram://e8a284f0-ede1-4a95-ac55-97fbe6196c1d/assets\n",
            "WARNING:absl:<keras.layers.recurrent.LSTMCell object at 0x7f6375340650> has the same name 'LSTMCell' as a built-in Keras object. Consider renaming <class 'keras.layers.recurrent.LSTMCell'> to avoid naming conflicts when loading with `tf.keras.models.load_model`. If renaming is not possible, pass the object in the `custom_objects` parameter of the load function.\n",
            "WARNING:absl:<keras.layers.recurrent.LSTMCell object at 0x7f63753e4710> has the same name 'LSTMCell' as a built-in Keras object. Consider renaming <class 'keras.layers.recurrent.LSTMCell'> to avoid naming conflicts when loading with `tf.keras.models.load_model`. If renaming is not possible, pass the object in the `custom_objects` parameter of the load function.\n",
            "WARNING:absl:Found untraced functions such as lstm_cell_layer_call_fn, lstm_cell_layer_call_and_return_conditional_losses, lstm_cell_1_layer_call_fn, lstm_cell_1_layer_call_and_return_conditional_losses while saving (showing 4 of 4). These functions will not be directly callable after loading.\n"
          ]
        },
        {
          "output_type": "stream",
          "name": "stdout",
          "text": [
            "INFO:tensorflow:Assets written to: 27-05-2022-14-55-46-keras/assets\n"
          ]
        },
        {
          "output_type": "stream",
          "name": "stderr",
          "text": [
            "INFO:tensorflow:Assets written to: 27-05-2022-14-55-46-keras/assets\n",
            "WARNING:absl:<keras.layers.recurrent.LSTMCell object at 0x7f6375340650> has the same name 'LSTMCell' as a built-in Keras object. Consider renaming <class 'keras.layers.recurrent.LSTMCell'> to avoid naming conflicts when loading with `tf.keras.models.load_model`. If renaming is not possible, pass the object in the `custom_objects` parameter of the load function.\n",
            "WARNING:absl:<keras.layers.recurrent.LSTMCell object at 0x7f63753e4710> has the same name 'LSTMCell' as a built-in Keras object. Consider renaming <class 'keras.layers.recurrent.LSTMCell'> to avoid naming conflicts when loading with `tf.keras.models.load_model`. If renaming is not possible, pass the object in the `custom_objects` parameter of the load function.\n"
          ]
        }
      ]
    },
    {
      "cell_type": "code",
      "source": [
        "import matplotlib.pyplot as plt\n",
        "plt.plot(history.history['loss'], label='train')\n",
        "plt.plot(history.history['val_loss'], label='test')\n",
        "plt.legend()\n",
        "plt.show()"
      ],
      "metadata": {
        "colab": {
          "base_uri": "https://localhost:8080/",
          "height": 265
        },
        "id": "G3pZ0kBE_5IV",
        "outputId": "f6b92f32-a0ad-4891-c9ca-2fac4d63aa1a"
      },
      "execution_count": 56,
      "outputs": [
        {
          "output_type": "display_data",
          "data": {
            "text/plain": [
              "<Figure size 432x288 with 1 Axes>"
            ],
            "image/png": "[encoded data removed]"
          },
          "metadata": {
            "needs_background": "light"
          }
        }
      ]
    },
    {
      "cell_type": "markdown",
      "source": [
        ""
      ],
      "metadata": {
        "id": "F-PhnaymBTj4"
      }
    },
    {
      "cell_type": "code",
      "source": [
        ""
      ],
      "metadata": {
        "id": "3uvZTH2piMy4"
      },
      "execution_count": null,
      "outputs": []
    }
  ]
}